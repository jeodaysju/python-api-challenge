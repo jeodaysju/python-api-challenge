{
 "cells": [
  {
   "cell_type": "markdown",
   "metadata": {},
   "source": [
    "# WeatherPy\n",
    "----\n",
    "\n",
    "#### Note\n",
    "* Instructions have been included for each segment. You do not have to follow them exactly, but they are included to help you think through the steps."
   ]
  },
  {
   "cell_type": "code",
   "execution_count": 8,
   "metadata": {
    "scrolled": true
   },
   "outputs": [],
   "source": [
    "# Dependencies and Setup\n",
    "import matplotlib.pyplot as plt\n",
    "import pandas as pd\n",
    "import numpy as np\n",
    "import requests\n",
    "import time\n",
    "from scipy.stats import linregress\n",
    "\n",
    "# Import API key\n",
    "from config import weather_api_key\n",
    "\n",
    "# Incorporated citipy to determine city based on latitude and longitude\n",
    "from citipy import citipy\n",
    "\n",
    "# Output File (CSV)\n",
    "output_data_file = \"output_data/cities.csv\"\n",
    "\n",
    "# Range of latitudes and longitudes\n",
    "lat_range = (-90, 90)\n",
    "lng_range = (-180, 180)"
   ]
  },
  {
   "cell_type": "markdown",
   "metadata": {},
   "source": [
    "## Generate Cities List"
   ]
  },
  {
   "cell_type": "code",
   "execution_count": 9,
   "metadata": {},
   "outputs": [
    {
     "data": {
      "text/plain": [
       "616"
      ]
     },
     "execution_count": 9,
     "metadata": {},
     "output_type": "execute_result"
    }
   ],
   "source": [
    "# List for holding lat_lngs and cities\n",
    "lat_lngs = []\n",
    "cities = []\n",
    "\n",
    "# Create a set of random lat and lng combinations\n",
    "lats = np.random.uniform(lat_range[0], lat_range[1], size=1500)\n",
    "lngs = np.random.uniform(lng_range[0], lng_range[1], size=1500)\n",
    "lat_lngs = zip(lats, lngs)\n",
    "\n",
    "# Identify nearest city for each lat, lng combination\n",
    "for lat_lng in lat_lngs:\n",
    "    city = citipy.nearest_city(lat_lng[0], lat_lng[1]).city_name\n",
    "    \n",
    "    # If the city is unique, then add it to a our cities list\n",
    "    if city not in cities:\n",
    "        cities.append(city)\n",
    "\n",
    "# Print the city count to confirm sufficient count\n",
    "len(cities)"
   ]
  },
  {
   "cell_type": "markdown",
   "metadata": {},
   "source": [
    "### Perform API Calls\n",
    "* Perform a weather check on each city using a series of successive API calls.\n",
    "* Include a print log of each city as it'sbeing processed (with the city number and city name).\n"
   ]
  },
  {
   "cell_type": "code",
   "execution_count": 10,
   "metadata": {},
   "outputs": [],
   "source": [
    "# Save config information.\n",
    "url = \"http://api.openweathermap.org/data/2.5/weather?\"\n",
    "units = \"imperial\"\n",
    "\n",
    "# Build partial query URL\n",
    "query_url = f\"{url}appid={weather_api_key}&units={units}&q=\""
   ]
  },
  {
   "cell_type": "code",
   "execution_count": 20,
   "metadata": {},
   "outputs": [
    {
     "name": "stdout",
     "output_type": "stream",
     "text": [
      "Processing record: lavrentiya.\n",
      "Processing record: yumen.\n",
      "Processing record: vaini.\n",
      "Processing record: killybegs.\n",
      "Processing record: fort nelson.\n",
      "Processing record: albany.\n",
      "Processing record: asau.\n",
      "Processing record: torbay.\n",
      "Processing record: imbituba.\n",
      "Processing record: ulladulla.\n",
      "Processing record: buarcos.\n",
      "Processing record: calabozo.\n",
      "Processing record: grand island.\n",
      "Processing record: saint-pierre.\n",
      "Processing record: gilgit.\n",
      "Processing record: puerto ayora.\n",
      "Processing record: tynda.\n",
      "Processing record: hobart.\n",
      "Processing record: rikitea.\n",
      "Processing record: plymouth.\n",
      "Processing record: mumford.\n",
      "Processing record: ushuaia.\n",
      "Processing record: thompson.\n",
      "Processing record: aksu.\n",
      "Processing record: bredasdorp.\n",
      "Processing record: severo-kurilsk.\n",
      "City: barentsburg was mot found. Skipping...\n",
      "Processing record: butaritari.\n",
      "Processing record: hermanus.\n",
      "Processing record: hilo.\n",
      "Processing record: ridgecrest.\n",
      "Processing record: marsabit.\n",
      "Processing record: manta.\n",
      "Processing record: mataura.\n",
      "Processing record: qaanaaq.\n",
      "Processing record: east london.\n",
      "Processing record: tuktoyaktuk.\n",
      "Processing record: alta floresta.\n",
      "Processing record: gouyave.\n",
      "Processing record: carnarvon.\n",
      "Processing record: mount gambier.\n",
      "City: taolanaro was mot found. Skipping...\n",
      "Processing record: busselton.\n",
      "Processing record: biak.\n",
      "Processing record: pacific grove.\n",
      "Processing record: chokurdakh.\n",
      "City: sayabec was mot found. Skipping...\n",
      "City: silyanah was mot found. Skipping...\n",
      "Processing record: sterling.\n",
      "Processing record: acapulco.\n",
      "Processing record: bethel.\n",
      "Processing record: gawler.\n",
      "Processing record: aklavik.\n",
      "Processing record: tasiilaq.\n",
      "Processing record: lebu.\n",
      "Processing record: msanga.\n",
      "Processing record: avarua.\n",
      "Processing record: belaya gora.\n",
      "Processing record: nelson bay.\n",
      "Processing record: provideniya.\n",
      "Processing record: nanortalik.\n",
      "Processing record: camopi.\n",
      "Processing record: yushala.\n",
      "Processing record: jamestown.\n",
      "City: louisbourg was mot found. Skipping...\n",
      "Processing record: punta arenas.\n",
      "Processing record: saskylakh.\n",
      "Processing record: messina.\n",
      "Processing record: gubkinskiy.\n",
      "City: nizhneyansk was mot found. Skipping...\n",
      "Processing record: labuhan.\n",
      "Processing record: baculin.\n",
      "Processing record: sur.\n",
      "Processing record: labytnangi.\n",
      "City: karaul was mot found. Skipping...\n",
      "Processing record: hithadhoo.\n",
      "Processing record: mehamn.\n",
      "Processing record: comodoro rivadavia.\n",
      "Processing record: pechora.\n",
      "Processing record: atuona.\n",
      "Processing record: dinguiraye.\n",
      "Processing record: san patricio.\n",
      "Processing record: ponta do sol.\n",
      "Processing record: ilulissat.\n",
      "Processing record: natal.\n",
      "Processing record: ribeira grande.\n",
      "Processing record: cap malheureux.\n",
      "Processing record: longyearbyen.\n",
      "Processing record: paragominas.\n",
      "Processing record: esperance.\n",
      "Processing record: ostersund.\n",
      "Processing record: serebryansk.\n",
      "Processing record: nome.\n",
      "City: belushya guba was mot found. Skipping...\n",
      "Processing record: kapaa.\n",
      "Processing record: port alfred.\n",
      "Processing record: bluff.\n",
      "Processing record: georgetown.\n",
      "Processing record: kaitangata.\n",
      "Processing record: upernavik.\n",
      "Processing record: marihatag.\n",
      "Processing record: ancud.\n",
      "Processing record: sao paulo de olivenca.\n",
      "Processing record: anadyr.\n",
      "Processing record: port-cartier.\n",
      "City: longlac was mot found. Skipping...\n",
      "Processing record: la sarre.\n",
      "Processing record: ciudad bolivar.\n",
      "Processing record: talnakh.\n",
      "Processing record: ostrovnoy.\n",
      "Processing record: yambio.\n",
      "Processing record: rangapara.\n",
      "Processing record: luderitz.\n",
      "Processing record: sorland.\n",
      "Processing record: clyde river.\n",
      "Processing record: rudkobing.\n",
      "Processing record: narsaq.\n",
      "City: formoso do araguaia was mot found. Skipping...\n",
      "Processing record: yellowknife.\n",
      "Processing record: gagra.\n",
      "Processing record: rexburg.\n",
      "Processing record: castro.\n",
      "Processing record: berdigestyakh.\n",
      "Processing record: mahebourg.\n",
      "Processing record: hasaki.\n",
      "Processing record: ugoofaaru.\n",
      "Processing record: tateyama.\n",
      "Processing record: norman wells.\n",
      "Processing record: artvin.\n",
      "City: solsvik was mot found. Skipping...\n",
      "City: barbar was mot found. Skipping...\n",
      "Processing record: uto.\n",
      "Processing record: bathsheba.\n",
      "Processing record: bonneville.\n",
      "Processing record: barrow.\n",
      "Processing record: cabo san lucas.\n",
      "Processing record: kutum.\n",
      "Processing record: kodinsk.\n",
      "Processing record: asfi.\n",
      "Processing record: chulym.\n",
      "Processing record: sao filipe.\n",
      "City: illoqqortoormiut was mot found. Skipping...\n",
      "City: palabuhanratu was mot found. Skipping...\n",
      "Processing record: korla.\n",
      "Processing record: sao joao da barra.\n",
      "City: sentyabrskiy was mot found. Skipping...\n",
      "Processing record: aripuana.\n",
      "Processing record: port blair.\n",
      "Processing record: north platte.\n",
      "Processing record: mar del plata.\n",
      "Processing record: iguape.\n",
      "Processing record: lata.\n",
      "Processing record: viedma.\n",
      "Processing record: green.\n",
      "Processing record: myitkyina.\n",
      "Processing record: prince rupert.\n",
      "Processing record: cape town.\n",
      "City: mendahara was mot found. Skipping...\n",
      "Processing record: sambava.\n",
      "Processing record: havre-saint-pierre.\n",
      "Processing record: robe.\n",
      "Processing record: svirstroy.\n",
      "Processing record: rincon.\n",
      "Processing record: batemans bay.\n",
      "Processing record: nikolskoye.\n",
      "City: mys shmidta was mot found. Skipping...\n",
      "Processing record: yeppoon.\n",
      "Processing record: lasa.\n",
      "Processing record: soyo.\n",
      "Processing record: naini tal.\n",
      "Processing record: mahuva.\n",
      "Processing record: rocha.\n",
      "Processing record: northam.\n",
      "Processing record: lagoa.\n",
      "Processing record: tual.\n",
      "City: tabiauea was mot found. Skipping...\n",
      "Processing record: kruisfontein.\n",
      "Processing record: siderno.\n",
      "Processing record: chuy.\n",
      "City: ramasukha was mot found. Skipping...\n",
      "Processing record: rawson.\n",
      "Processing record: shelburne.\n",
      "Processing record: ikot ekpene.\n",
      "Processing record: talara.\n",
      "Processing record: komsomolskiy.\n",
      "Processing record: thanh hoa.\n",
      "Processing record: tiksi.\n",
      "Processing record: new norfolk.\n",
      "Processing record: seguela.\n",
      "Processing record: witu.\n",
      "Processing record: acajutla.\n",
      "Processing record: port lincoln.\n",
      "Processing record: praia da vitoria.\n",
      "Processing record: grindavik.\n",
      "Processing record: faanui.\n",
      "Processing record: port moresby.\n",
      "Processing record: guerrero negro.\n",
      "Processing record: bengkulu.\n",
      "Processing record: aksarka.\n",
      "Processing record: berlevag.\n",
      "Processing record: mao.\n",
      "Processing record: vestmannaeyjar.\n",
      "Processing record: canto do buriti.\n",
      "Processing record: muravlenko.\n",
      "Processing record: bud.\n",
      "Processing record: asheville.\n",
      "Processing record: cabra.\n",
      "Processing record: linxia.\n",
      "Processing record: sibolga.\n",
      "Processing record: terrace.\n",
      "Processing record: umm kaddadah.\n",
      "Processing record: hobyo.\n",
      "Processing record: nouakchott.\n",
      "Processing record: hofn.\n",
      "Processing record: port elizabeth.\n",
      "Processing record: taltal.\n",
      "Processing record: naze.\n",
      "Processing record: mecca.\n",
      "Processing record: kodiak.\n",
      "Processing record: siilinjarvi.\n",
      "City: burica was mot found. Skipping...\n",
      "Processing record: khatanga.\n",
      "Processing record: olafsvik.\n",
      "Processing record: tchibanga.\n",
      "Processing record: najran.\n",
      "Processing record: vanimo.\n",
      "Processing record: dakar.\n",
      "Processing record: virginia beach.\n",
      "Processing record: papara.\n",
      "City: tsihombe was mot found. Skipping...\n",
      "City: vaitupu was mot found. Skipping...\n",
      "Processing record: khasan.\n",
      "Processing record: cherskiy.\n",
      "Processing record: puerto del rosario.\n",
      "Processing record: bambous virieux.\n",
      "Processing record: mackay.\n",
      "City: gangotri was mot found. Skipping...\n",
      "Processing record: eregli.\n",
      "Processing record: kalmunai.\n",
      "City: solovetskiy was mot found. Skipping...\n",
      "Processing record: high level.\n",
      "Processing record: klaksvik.\n",
      "Processing record: saldanha.\n",
      "Processing record: nianzishan.\n",
      "Processing record: petropavlovsk-kamchatskiy.\n",
      "Processing record: narbonne.\n",
      "Processing record: avera.\n",
      "City: saleaula was mot found. Skipping...\n",
      "Processing record: tautira.\n",
      "Processing record: niefern-oschelbronn.\n",
      "Processing record: gat.\n",
      "Processing record: pasighat.\n",
      "Processing record: krasnoshchekovo.\n",
      "Processing record: columbus.\n",
      "Processing record: yemelyanovo.\n",
      "Processing record: santiago del estero.\n",
      "Processing record: sechura.\n",
      "Processing record: kulhudhuffushi.\n",
      "Processing record: geraldton.\n",
      "Processing record: hovd.\n",
      "Processing record: princeton.\n",
      "Processing record: hambantota.\n",
      "Processing record: yar-sale.\n",
      "Processing record: inirida.\n",
      "Processing record: havelock.\n",
      "Processing record: cururupu.\n",
      "Processing record: beidao.\n"
     ]
    },
    {
     "name": "stdout",
     "output_type": "stream",
     "text": [
      "Processing record: nizwa.\n",
      "Processing record: ponta delgada.\n",
      "Processing record: jaguarao.\n",
      "Processing record: zhangjiakou.\n",
      "Processing record: iqaluit.\n",
      "Processing record: san cristobal.\n",
      "Processing record: gull lake.\n",
      "Processing record: sitka.\n",
      "Processing record: hualmay.\n",
      "Processing record: mendi.\n",
      "City: amderma was mot found. Skipping...\n",
      "Processing record: phalaborwa.\n",
      "Processing record: taoudenni.\n",
      "City: samusu was mot found. Skipping...\n",
      "Processing record: denpasar.\n",
      "Processing record: paratinga.\n",
      "Processing record: meulaboh.\n",
      "Processing record: rosetta.\n",
      "City: labutta was mot found. Skipping...\n",
      "Processing record: la romana.\n",
      "Processing record: vostok.\n",
      "Processing record: digapahandi.\n",
      "Processing record: show low.\n",
      "Processing record: saint-philippe.\n",
      "Processing record: vancouver.\n",
      "Processing record: riyadh.\n",
      "Processing record: saint george.\n",
      "Processing record: san alberto.\n",
      "Processing record: kumta.\n",
      "Processing record: topolevo.\n",
      "Processing record: cidreira.\n",
      "Processing record: beba.\n",
      "Processing record: san andres.\n",
      "Processing record: haines junction.\n",
      "Processing record: emba.\n",
      "Processing record: coahuayana.\n",
      "Processing record: anchorage.\n",
      "Processing record: souillac.\n",
      "Processing record: port hardy.\n",
      "Processing record: omboue.\n",
      "Processing record: tuatapere.\n",
      "Processing record: racine.\n",
      "Processing record: roald.\n",
      "Processing record: svetlaya.\n",
      "Processing record: trairi.\n",
      "Processing record: yakeshi.\n",
      "City: karamea was mot found. Skipping...\n",
      "Processing record: pishin.\n",
      "Processing record: airai.\n",
      "Processing record: adrar.\n",
      "City: dolbeau was mot found. Skipping...\n",
      "Processing record: taretan.\n",
      "Processing record: jiuquan.\n",
      "Processing record: rancho palos verdes.\n",
      "Processing record: shebunino.\n",
      "Processing record: santa rosa.\n",
      "Processing record: camacha.\n",
      "Processing record: yebaishou.\n",
      "Processing record: shakawe.\n",
      "City: marcona was mot found. Skipping...\n",
      "Processing record: san francisco.\n",
      "Processing record: bolobo.\n",
      "Processing record: sain alto.\n",
      "City: chagda was mot found. Skipping...\n",
      "Processing record: kushiro.\n",
      "Processing record: portland.\n",
      "Processing record: kiunga.\n",
      "Processing record: vardo.\n",
      "Processing record: little current.\n",
      "Processing record: eyl.\n",
      "Processing record: cam ranh.\n",
      "Processing record: pisco.\n",
      "Processing record: isahaya.\n",
      "Processing record: kathmandu.\n",
      "Processing record: sala consilina.\n",
      "Processing record: moerai.\n",
      "Processing record: lufilufi.\n",
      "Processing record: boyolangu.\n",
      "Processing record: buchanan.\n",
      "Processing record: ligayan.\n",
      "Processing record: mantua.\n",
      "Processing record: ukiah.\n",
      "Processing record: koboko.\n",
      "Processing record: kyra.\n",
      "Processing record: mangrol.\n",
      "Processing record: sumbe.\n",
      "Processing record: luanda.\n",
      "Processing record: vezirkopru.\n",
      "Processing record: bucerias.\n",
      "Processing record: victoria.\n",
      "Processing record: college.\n",
      "Processing record: puro.\n",
      "Processing record: palmer.\n",
      "Processing record: flinders.\n",
      "Processing record: safford.\n",
      "Processing record: rockport.\n",
      "Processing record: remontnoye.\n",
      "Processing record: leningradskiy.\n",
      "Processing record: lompoc.\n",
      "Processing record: paamiut.\n",
      "Processing record: pevek.\n",
      "City: fevralsk was mot found. Skipping...\n",
      "Processing record: ahipara.\n",
      "Processing record: atar.\n",
      "Processing record: manoel urbano.\n",
      "Processing record: saint-paul.\n",
      "Processing record: chernyshevskiy.\n",
      "Processing record: byron bay.\n",
      "Processing record: bad salzungen.\n",
      "Processing record: iskateley.\n",
      "Processing record: tiznit.\n",
      "Processing record: marbella.\n",
      "Processing record: itarema.\n",
      "Processing record: sao jose da coroa grande.\n",
      "Processing record: spasskoye.\n",
      "Processing record: carlsbad.\n",
      "Processing record: mount isa.\n",
      "Processing record: ixtapa.\n",
      "Processing record: niteroi.\n",
      "Processing record: barranca de upia.\n",
      "Processing record: vallenar.\n",
      "Processing record: teeli.\n",
      "Processing record: krasnyy chikoy.\n",
      "Processing record: mariental.\n",
      "City: karakendzha was mot found. Skipping...\n",
      "Processing record: rampura.\n",
      "Processing record: sakakah.\n",
      "Processing record: mengen.\n",
      "Processing record: inta.\n",
      "Processing record: laguna.\n",
      "Processing record: necochea.\n",
      "Processing record: tartagal.\n",
      "Processing record: kondoa.\n",
      "Processing record: jieshi.\n",
      "City: subacius was mot found. Skipping...\n",
      "Processing record: katsuura.\n",
      "Processing record: port-gentil.\n",
      "Processing record: zacualtipan.\n",
      "Processing record: jiexiu.\n",
      "Processing record: itarare.\n",
      "Processing record: zlobin.\n",
      "Processing record: maralal.\n",
      "Processing record: vila do maio.\n",
      "Processing record: jos.\n",
      "Processing record: alofi.\n",
      "Processing record: zabaykalsk.\n",
      "Processing record: nizhniy ingash.\n",
      "Processing record: copiapo.\n",
      "Processing record: eureka.\n",
      "Processing record: villa del rosario.\n",
      "Processing record: pingzhuang.\n",
      "Processing record: lerwick.\n",
      "Processing record: saint-joseph.\n",
      "Processing record: dikson.\n",
      "Processing record: arraial do cabo.\n",
      "Processing record: dingle.\n",
      "Processing record: sanmartin.\n",
      "Processing record: kitimat.\n",
      "Processing record: glendive.\n",
      "Processing record: kahta.\n",
      "Processing record: san-pedro.\n",
      "Processing record: campobasso.\n",
      "Processing record: kavieng.\n",
      "Processing record: poum.\n",
      "City: xiongshi was mot found. Skipping...\n",
      "Processing record: tarnogskiy gorodok.\n",
      "Processing record: itoman.\n",
      "Processing record: ouallam.\n",
      "Processing record: san quintin.\n",
      "Processing record: pangai.\n",
      "Processing record: douentza.\n",
      "Processing record: nalut.\n",
      "Processing record: kununurra.\n",
      "Processing record: saint-augustin.\n",
      "City: el balyana was mot found. Skipping...\n",
      "Processing record: broome.\n",
      "Processing record: srednekolymsk.\n",
      "City: kamenskoye was mot found. Skipping...\n",
      "City: grand river south east was mot found. Skipping...\n",
      "Processing record: kayerkan.\n",
      "Processing record: ust-nera.\n",
      "Processing record: maceio.\n",
      "Processing record: stokmarknes.\n",
      "Processing record: namibe.\n",
      "Processing record: namatanai.\n",
      "Processing record: aljezur.\n",
      "Processing record: puri.\n",
      "Processing record: los llanos de aridane.\n",
      "Processing record: la tuque.\n",
      "Processing record: lewiston.\n",
      "Processing record: tommot.\n",
      "Processing record: shimoda.\n",
      "Processing record: dharchula.\n",
      "Processing record: ewa beach.\n",
      "Processing record: san rafael del sur.\n",
      "Processing record: svarstad.\n",
      "Processing record: fortuna.\n",
      "Processing record: kemijarvi.\n",
      "Processing record: libertad.\n",
      "Processing record: hanford.\n",
      "Processing record: blagoveshchenka.\n",
      "Processing record: joshimath.\n",
      "Processing record: vilyuysk.\n",
      "Processing record: luquillo.\n",
      "Processing record: dicabisagan.\n",
      "Processing record: sarangani.\n",
      "Processing record: te anau.\n",
      "Processing record: bonthe.\n",
      "Processing record: jurado.\n",
      "Processing record: tres arroyos.\n",
      "Processing record: zaozerne.\n",
      "City: karamken was mot found. Skipping...\n",
      "Processing record: mashhad.\n",
      "Processing record: macusani.\n",
      "Processing record: ponnani.\n",
      "Processing record: mokhsogollokh.\n",
      "Processing record: bajil.\n",
      "Processing record: daru.\n",
      "Processing record: paka.\n",
      "Processing record: mosquera.\n",
      "Processing record: bonavista.\n",
      "Processing record: port augusta.\n",
      "City: tanjong sepat was mot found. Skipping...\n",
      "City: halalo was mot found. Skipping...\n",
      "Processing record: henties bay.\n",
      "Processing record: luwingu.\n",
      "Processing record: kuala terengganu.\n",
      "Processing record: sisimiut.\n",
      "Processing record: lermontovka.\n",
      "Processing record: hua hin.\n",
      "Processing record: yerbogachen.\n",
      "Processing record: olavarria.\n",
      "Processing record: ouro preto do oeste.\n",
      "Processing record: honningsvag.\n",
      "Processing record: tatvan.\n",
      "Processing record: whitehorse.\n",
      "Processing record: el rosario.\n",
      "Processing record: jiazi.\n",
      "Processing record: husavik.\n",
      "Processing record: suluq.\n",
      "Processing record: mayo.\n",
      "Processing record: waitakere.\n",
      "Processing record: albania.\n",
      "Processing record: obo.\n",
      "Processing record: illela.\n",
      "Processing record: rapina.\n",
      "Processing record: oussouye.\n",
      "Processing record: grimshaw.\n",
      "Processing record: ozernovskiy.\n",
      "Processing record: qidong.\n",
      "Processing record: armidale.\n",
      "Processing record: nanakuli.\n",
      "Processing record: nevers.\n",
      "Processing record: leh.\n",
      "Processing record: deputatskiy.\n",
      "Processing record: fonte boa.\n",
      "Processing record: siparia.\n",
      "Processing record: tandalti.\n",
      "Processing record: fare.\n",
      "Processing record: monterey.\n",
      "Processing record: simga.\n",
      "Processing record: cayenne.\n",
      "Processing record: aswan.\n",
      "Processing record: san pedro.\n",
      "Processing record: binzhou.\n",
      "Processing record: pescara.\n",
      "Processing record: hervey bay.\n",
      "Processing record: nagorsk.\n",
      "Processing record: ulaangom.\n",
      "Processing record: spas-klepiki.\n",
      "Processing record: aguimes.\n",
      "Processing record: kavaratti.\n",
      "Processing record: santa fe.\n"
     ]
    },
    {
     "name": "stdout",
     "output_type": "stream",
     "text": [
      "Processing record: marawi.\n",
      "Processing record: nantucket.\n",
      "City: zhanatas was mot found. Skipping...\n",
      "Processing record: sukumo.\n",
      "Processing record: vila franca do campo.\n",
      "City: gumusyaka was mot found. Skipping...\n",
      "Processing record: quatre cocos.\n",
      "Processing record: along.\n",
      "Processing record: sabang.\n",
      "Processing record: maldonado.\n",
      "Processing record: san ramon.\n",
      "Processing record: krasnoselkup.\n",
      "Processing record: loukhi.\n",
      "Processing record: amur.\n",
      "Processing record: havoysund.\n",
      "Processing record: margate.\n",
      "Processing record: turan.\n",
      "Processing record: guararapes.\n",
      "Processing record: pringsewu.\n",
      "Processing record: edd.\n",
      "Processing record: urazovo.\n",
      "Processing record: pemangkat.\n",
      "Processing record: kahului.\n",
      "Processing record: jamame.\n",
      "Processing record: soc trang.\n",
      "Processing record: mineros.\n",
      "Processing record: phek.\n",
      "Processing record: bijawar.\n",
      "Processing record: pochutla.\n",
      "Processing record: boyabat.\n",
      "Processing record: bahia blanca.\n",
      "Processing record: bulnes.\n",
      "Processing record: togur.\n",
      "Processing record: salinopolis.\n",
      "Processing record: pangoa.\n",
      "Processing record: folldal.\n",
      "Processing record: bilibino.\n",
      "Processing record: klyuchi.\n",
      "Processing record: ha giang.\n",
      "Processing record: beyneu.\n",
      "Processing record: turayf.\n",
      "Processing record: mocuba.\n",
      "City: sataua was mot found. Skipping...\n",
      "Processing record: matagalpa.\n",
      "Processing record: noumea.\n",
      "Processing record: houston.\n",
      "City: golden rock was mot found. Skipping...\n",
      "Processing record: edinet.\n",
      "Processing record: tokur.\n",
      "Processing record: nuevo progreso.\n",
      "Processing record: atlantis.\n",
      "Processing record: healdsburg.\n",
      "Processing record: carthage.\n",
      "Processing record: caravelas.\n",
      "Processing record: zhezkazgan.\n",
      "Processing record: ketchikan.\n",
      "Processing record: brae.\n",
      "Processing record: abu kamal.\n",
      "Processing record: demyanovo.\n",
      "Processing record: tecoanapa.\n",
      "Processing record: biberach.\n",
      "Processing record: neyshabur.\n",
      "Processing record: eirunepe.\n",
      "Processing record: frisco.\n",
      "Processing record: izberbash.\n",
      "Processing record: coffeyville.\n",
      "City: kleck was mot found. Skipping...\n",
      "Processing record: belmopan.\n",
      "City: tir pol was mot found. Skipping...\n",
      "Processing record: axim.\n",
      "Processing record: kasangulu.\n",
      "Processing record: constitucion.\n",
      "Processing record: rio grande.\n",
      "Processing record: hare bay.\n",
      "Processing record: westport.\n",
      "Processing record: vila velha.\n"
     ]
    }
   ],
   "source": [
    "# cities2 = ['touros', 'saint anthony', 'san patricio']\n",
    "\n",
    "# set up lists to hold reponse info -- append to it in the loop below\n",
    "name = []\n",
    "lat = []\n",
    "long = []\n",
    "temp = []\n",
    "wind = []\n",
    "humid = []\n",
    "clouds = []\n",
    "\n",
    "# Loop through the list of cities and perform a request for data on each\n",
    "for city in cities:\n",
    "    try:\n",
    "        response = requests.get(query_url + city).json()\n",
    "        name.append(response['name'])\n",
    "        lat.append(response['coord']['lat'])\n",
    "        long.append(response['coord']['lon'])\n",
    "        temp.append(response['main']['temp_max'])\n",
    "        humid.append(response['main']['humidity'])\n",
    "        wind.append(response['wind']['speed'])\n",
    "        clouds.append(response['clouds']['all'])\n",
    "        print(f\"Processing record: {city}.\")\n",
    "    except:\n",
    "        # Append null values\n",
    "        print(f\"City: {city} was mot found. Skipping...\")\n",
    "#         print(\"City not found skipping\")\n",
    "        pass\n"
   ]
  },
  {
   "cell_type": "markdown",
   "metadata": {},
   "source": [
    "### Convert Raw Data to DataFrame\n",
    "* Export the city data into a .csv.\n",
    "* Display the DataFrame"
   ]
  },
  {
   "cell_type": "code",
   "execution_count": 21,
   "metadata": {},
   "outputs": [
    {
     "data": {
      "text/html": [
       "<div>\n",
       "<style scoped>\n",
       "    .dataframe tbody tr th:only-of-type {\n",
       "        vertical-align: middle;\n",
       "    }\n",
       "\n",
       "    .dataframe tbody tr th {\n",
       "        vertical-align: top;\n",
       "    }\n",
       "\n",
       "    .dataframe thead th {\n",
       "        text-align: right;\n",
       "    }\n",
       "</style>\n",
       "<table border=\"1\" class=\"dataframe\">\n",
       "  <thead>\n",
       "    <tr style=\"text-align: right;\">\n",
       "      <th></th>\n",
       "      <th>city</th>\n",
       "      <th>lat</th>\n",
       "      <th>lon</th>\n",
       "      <th>temp</th>\n",
       "      <th>humidity</th>\n",
       "      <th>wind</th>\n",
       "      <th>cloudiness</th>\n",
       "    </tr>\n",
       "  </thead>\n",
       "  <tbody>\n",
       "    <tr>\n",
       "      <th>0</th>\n",
       "      <td>Lavrentiya</td>\n",
       "      <td>65.58</td>\n",
       "      <td>-171.00</td>\n",
       "      <td>61.03</td>\n",
       "      <td>61</td>\n",
       "      <td>16.44</td>\n",
       "      <td>92</td>\n",
       "    </tr>\n",
       "    <tr>\n",
       "      <th>1</th>\n",
       "      <td>Yumen</td>\n",
       "      <td>40.28</td>\n",
       "      <td>97.20</td>\n",
       "      <td>70.84</td>\n",
       "      <td>23</td>\n",
       "      <td>5.99</td>\n",
       "      <td>0</td>\n",
       "    </tr>\n",
       "    <tr>\n",
       "      <th>2</th>\n",
       "      <td>Vaini</td>\n",
       "      <td>-21.20</td>\n",
       "      <td>-175.20</td>\n",
       "      <td>71.60</td>\n",
       "      <td>88</td>\n",
       "      <td>8.05</td>\n",
       "      <td>40</td>\n",
       "    </tr>\n",
       "    <tr>\n",
       "      <th>3</th>\n",
       "      <td>Killybegs</td>\n",
       "      <td>54.63</td>\n",
       "      <td>-8.45</td>\n",
       "      <td>55.40</td>\n",
       "      <td>71</td>\n",
       "      <td>12.75</td>\n",
       "      <td>98</td>\n",
       "    </tr>\n",
       "    <tr>\n",
       "      <th>4</th>\n",
       "      <td>Fort Nelson</td>\n",
       "      <td>58.81</td>\n",
       "      <td>-122.70</td>\n",
       "      <td>73.40</td>\n",
       "      <td>49</td>\n",
       "      <td>2.24</td>\n",
       "      <td>75</td>\n",
       "    </tr>\n",
       "    <tr>\n",
       "      <th>...</th>\n",
       "      <td>...</td>\n",
       "      <td>...</td>\n",
       "      <td>...</td>\n",
       "      <td>...</td>\n",
       "      <td>...</td>\n",
       "      <td>...</td>\n",
       "      <td>...</td>\n",
       "    </tr>\n",
       "    <tr>\n",
       "      <th>95</th>\n",
       "      <td>Anadyr</td>\n",
       "      <td>64.75</td>\n",
       "      <td>177.48</td>\n",
       "      <td>66.20</td>\n",
       "      <td>77</td>\n",
       "      <td>11.18</td>\n",
       "      <td>31</td>\n",
       "    </tr>\n",
       "    <tr>\n",
       "      <th>96</th>\n",
       "      <td>Port-Cartier</td>\n",
       "      <td>50.03</td>\n",
       "      <td>-66.87</td>\n",
       "      <td>71.60</td>\n",
       "      <td>60</td>\n",
       "      <td>8.05</td>\n",
       "      <td>75</td>\n",
       "    </tr>\n",
       "    <tr>\n",
       "      <th>97</th>\n",
       "      <td>La Sarre</td>\n",
       "      <td>48.80</td>\n",
       "      <td>-79.20</td>\n",
       "      <td>79.95</td>\n",
       "      <td>81</td>\n",
       "      <td>6.71</td>\n",
       "      <td>13</td>\n",
       "    </tr>\n",
       "    <tr>\n",
       "      <th>98</th>\n",
       "      <td>Ciudad Bolivar</td>\n",
       "      <td>8.12</td>\n",
       "      <td>-63.55</td>\n",
       "      <td>90.18</td>\n",
       "      <td>53</td>\n",
       "      <td>2.86</td>\n",
       "      <td>87</td>\n",
       "    </tr>\n",
       "    <tr>\n",
       "      <th>99</th>\n",
       "      <td>Talnakh</td>\n",
       "      <td>69.49</td>\n",
       "      <td>88.40</td>\n",
       "      <td>44.60</td>\n",
       "      <td>93</td>\n",
       "      <td>17.90</td>\n",
       "      <td>84</td>\n",
       "    </tr>\n",
       "  </tbody>\n",
       "</table>\n",
       "<p>100 rows × 7 columns</p>\n",
       "</div>"
      ],
      "text/plain": [
       "              city    lat     lon   temp  humidity   wind  cloudiness\n",
       "0       Lavrentiya  65.58 -171.00  61.03        61  16.44          92\n",
       "1            Yumen  40.28   97.20  70.84        23   5.99           0\n",
       "2            Vaini -21.20 -175.20  71.60        88   8.05          40\n",
       "3        Killybegs  54.63   -8.45  55.40        71  12.75          98\n",
       "4      Fort Nelson  58.81 -122.70  73.40        49   2.24          75\n",
       "..             ...    ...     ...    ...       ...    ...         ...\n",
       "95          Anadyr  64.75  177.48  66.20        77  11.18          31\n",
       "96    Port-Cartier  50.03  -66.87  71.60        60   8.05          75\n",
       "97        La Sarre  48.80  -79.20  79.95        81   6.71          13\n",
       "98  Ciudad Bolivar   8.12  -63.55  90.18        53   2.86          87\n",
       "99         Talnakh  69.49   88.40  44.60        93  17.90          84\n",
       "\n",
       "[100 rows x 7 columns]"
      ]
     },
     "execution_count": 21,
     "metadata": {},
     "output_type": "execute_result"
    }
   ],
   "source": [
    "# create a data frame from cities, lat, and temp -- dictionary to a pd.DataFrame\n",
    "weather_dict = {\n",
    "    \"city\": name,\n",
    "    \"lat\": lat,\n",
    "    \"lon\": long,\n",
    "    \"temp\": temp,\n",
    "    \"humidity\": humid,\n",
    "    \"wind\": wind,\n",
    "    \"cloudiness\": clouds\n",
    "}\n",
    "weather_data = pd.DataFrame(weather_dict)\n",
    "weather_data.head(100)"
   ]
  },
  {
   "cell_type": "code",
   "execution_count": 22,
   "metadata": {},
   "outputs": [],
   "source": [
    "weather_data.to_csv('Datafolder/weather_data_df.csv', index=False)"
   ]
  },
  {
   "cell_type": "markdown",
   "metadata": {},
   "source": [
    "## Inspect the data and remove the cities where the humidity > 100%.\n",
    "----\n",
    "Skip this step if there are no cities that have humidity > 100%. "
   ]
  },
  {
   "cell_type": "code",
   "execution_count": 23,
   "metadata": {},
   "outputs": [
    {
     "data": {
      "text/plain": [
       "city           object\n",
       "lat           float64\n",
       "lon           float64\n",
       "temp          float64\n",
       "humidity        int64\n",
       "wind          float64\n",
       "cloudiness      int64\n",
       "dtype: object"
      ]
     },
     "execution_count": 23,
     "metadata": {},
     "output_type": "execute_result"
    }
   ],
   "source": [
    "weather_data.dtypes"
   ]
  },
  {
   "cell_type": "code",
   "execution_count": 24,
   "metadata": {},
   "outputs": [
    {
     "data": {
      "text/plain": [
       "Int64Index([], dtype='int64')"
      ]
     },
     "execution_count": 24,
     "metadata": {},
     "output_type": "execute_result"
    }
   ],
   "source": [
    "#  Get the indices of cities that have humidity over 100%.\n",
    "ind_humidity = weather_data.index[weather_data[\"humidity\"]>100]\n",
    "ind_humidity"
   ]
  },
  {
   "cell_type": "code",
   "execution_count": null,
   "metadata": {},
   "outputs": [],
   "source": [
    "# Make a new DataFrame equal to the city data to drop all humidity outliers by index.\n",
    "# Passing \"inplace=False\" will make a copy of the city_data DataFrame, which we call \"clean_city_data\".\n",
    "                            \n",
    "# No observations with Humidity over 100"
   ]
  },
  {
   "cell_type": "code",
   "execution_count": null,
   "metadata": {},
   "outputs": [],
   "source": [
    "# Extract relevant fields from the data frame\n",
    "#no need as there was nothing cleaned up"
   ]
  },
  {
   "cell_type": "markdown",
   "metadata": {},
   "source": [
    "## Plotting the Data\n",
    "* Use proper labeling of the plots using plot titles (including date of analysis) and axes labels.\n",
    "* Save the plotted figures as .pngs."
   ]
  },
  {
   "cell_type": "markdown",
   "metadata": {},
   "source": [
    "## Latitude vs. Temperature Plot"
   ]
  },
  {
   "cell_type": "code",
   "execution_count": 25,
   "metadata": {
    "scrolled": true
   },
   "outputs": [
    {
     "data": {
      "image/png": "[encoded data removed]",
      "text/plain": [
       "<Figure size 432x288 with 1 Axes>"
      ]
     },
     "metadata": {
      "needs_background": "light"
     },
     "output_type": "display_data"
    }
   ],
   "source": [
    "## Convert to floats and store Latitude and Tempurature as x and y values\n",
    "x_values = weather_data['lat']\n",
    "y_values = weather_data['temp']\n",
    "\n",
    "# Plot scatter plot\n",
    "plt.scatter(x_values,y_values)\n",
    "\n",
    "# Label plot\n",
    "plt.xlabel('Latitude')\n",
    "plt.ylabel('Max Tempurature (F)')\n",
    "plt.title('Tempurature vs Latitude')\n",
    "\n",
    "# Show plot\n",
    "plt.show()"
   ]
  },
  {
   "cell_type": "markdown",
   "metadata": {},
   "source": [
    "## Latitude vs. Humidity Plot"
   ]
  },
  {
   "cell_type": "code",
   "execution_count": 26,
   "metadata": {},
   "outputs": [
    {
     "data": {
      "image/png": "[encoded data removed]",
      "text/plain": [
       "<Figure size 432x288 with 1 Axes>"
      ]
     },
     "metadata": {
      "needs_background": "light"
     },
     "output_type": "display_data"
    }
   ],
   "source": [
    "## Convert to floats and store Latitude and Humidty as x and y values\n",
    "x_values = weather_data['lat']\n",
    "y_values = weather_data['humidity']\n",
    "\n",
    "# Plot scatter plot\n",
    "plt.scatter(x_values,y_values)\n",
    "\n",
    "# Label plot\n",
    "plt.xlabel('Latitude')\n",
    "plt.ylabel('Humidity (%)')\n",
    "plt.title('Humidity vs Latitude')\n",
    "\n",
    "# Show plot\n",
    "plt.show()"
   ]
  },
  {
   "cell_type": "markdown",
   "metadata": {},
   "source": [
    "## Latitude vs. Cloudiness Plot"
   ]
  },
  {
   "cell_type": "code",
   "execution_count": 27,
   "metadata": {},
   "outputs": [
    {
     "data": {
      "image/png": "[encoded data removed]",
      "text/plain": [
       "<Figure size 432x288 with 1 Axes>"
      ]
     },
     "metadata": {
      "needs_background": "light"
     },
     "output_type": "display_data"
    }
   ],
   "source": [
    "## Convert to floats and store Latitude and Cloudiness as x and y values\n",
    "x_values = weather_data['lat']\n",
    "y_values = weather_data['cloudiness']\n",
    "\n",
    "# Plot scatter plot\n",
    "plt.scatter(x_values,y_values)\n",
    "\n",
    "# Label plot\n",
    "plt.xlabel('Latitude')\n",
    "plt.ylabel('Cloudiness (%)')\n",
    "plt.title('Cloudiness vs Latitude')\n",
    "\n",
    "# Show plot\n",
    "plt.show()"
   ]
  },
  {
   "cell_type": "markdown",
   "metadata": {},
   "source": [
    "## Latitude vs. Wind Speed Plot"
   ]
  },
  {
   "cell_type": "code",
   "execution_count": 28,
   "metadata": {},
   "outputs": [
    {
     "data": {
      "image/png": "[encoded data removed]",
      "text/plain": [
       "<Figure size 432x288 with 1 Axes>"
      ]
     },
     "metadata": {
      "needs_background": "light"
     },
     "output_type": "display_data"
    }
   ],
   "source": [
    "## Convert to floats and store Latitude and wind as x and y values\n",
    "x_values = weather_data['lat']\n",
    "y_values = weather_data['wind']\n",
    "\n",
    "# Plot scatter plot\n",
    "plt.scatter(x_values,y_values)\n",
    "\n",
    "# Label plot\n",
    "plt.xlabel('Latitude')\n",
    "plt.ylabel('Wind (MPH)')\n",
    "plt.title('Wind Speed vs Latitude')\n",
    "\n",
    "# Show plot\n",
    "plt.show()"
   ]
  },
  {
   "cell_type": "markdown",
   "metadata": {},
   "source": [
    "## Linear Regression"
   ]
  },
  {
   "cell_type": "code",
   "execution_count": 29,
   "metadata": {},
   "outputs": [],
   "source": [
    "# OPTIONAL: Create a function to create Linear Regression plots"
   ]
  },
  {
   "cell_type": "code",
   "execution_count": 30,
   "metadata": {},
   "outputs": [],
   "source": [
    "# Create Northern and Southern Hemisphere DataFrames\n",
    "northern_hemisphere = weather_data.loc[weather_data[\"lat\"] >= 0]\n",
    "southern_hemisphere = weather_data.loc[weather_data[\"lat\"] < 0]"
   ]
  },
  {
   "cell_type": "markdown",
   "metadata": {},
   "source": [
    "####  Northern Hemisphere - Max Temp vs. Latitude Linear Regression"
   ]
  },
  {
   "cell_type": "code",
   "execution_count": 31,
   "metadata": {},
   "outputs": [
    {
     "name": "stdout",
     "output_type": "stream",
     "text": [
      "R squared: 0.42310286549221493\n"
     ]
    },
    {
     "data": {
      "image/png": "[encoded data removed]",
      "text/plain": [
       "<Figure size 432x288 with 1 Axes>"
      ]
     },
     "metadata": {
      "needs_background": "light"
     },
     "output_type": "display_data"
    }
   ],
   "source": [
    "## Convert to floats and store Latitude and Max Temp as x and y values\n",
    "x_values = northern_hemisphere['lat']\n",
    "y_values = northern_hemisphere['temp']\n",
    "\n",
    "# Run linear regression\n",
    "(slope, intercept, rvalue, pvalue, stderr) = linregress(x_values, y_values)\n",
    "regress_values = x_values * slope + intercept\n",
    "line_eq = \"y = \" + str(round(slope,2)) + \"x + \" + str(round(intercept,2))\n",
    "\n",
    "# Plot scatter plot\n",
    "plt.scatter(x_values,y_values)\n",
    "\n",
    "# Plot regression line\n",
    "plt.plot(x_values,regress_values,\"r-\")\n",
    "plt.annotate(line_eq,(0,40),fontsize=15,color=\"red\")\n",
    "\n",
    "# Label plot\n",
    "plt.xlabel('Latitude')\n",
    "plt.ylabel('Max Tempurature (F)')\n",
    "plt.title('Northern Hemisphere Tempurature vs Latitude')\n",
    "\n",
    "# Print r square value\n",
    "print(f\"R squared: {rvalue**2}\")\n",
    "\n",
    "# Show plot\n",
    "plt.show()\n"
   ]
  },
  {
   "cell_type": "markdown",
   "metadata": {},
   "source": [
    "####  Southern Hemisphere - Max Temp vs. Latitude Linear Regression"
   ]
  },
  {
   "cell_type": "code",
   "execution_count": 32,
   "metadata": {},
   "outputs": [
    {
     "name": "stdout",
     "output_type": "stream",
     "text": [
      "R squared: 0.663589966132455\n"
     ]
    },
    {
     "data": {
      "image/png": "[encoded data removed]",
      "text/plain": [
       "<Figure size 432x288 with 1 Axes>"
      ]
     },
     "metadata": {
      "needs_background": "light"
     },
     "output_type": "display_data"
    }
   ],
   "source": [
    "## Convert to floats and store Latitude and Max Temp as x and y values\n",
    "x_values = southern_hemisphere['lat']\n",
    "y_values = southern_hemisphere['temp']\n",
    "\n",
    "# Run linear regression\n",
    "(slope, intercept, rvalue, pvalue, stderr) = linregress(x_values, y_values)\n",
    "regress_values = x_values * slope + intercept\n",
    "line_eq = \"y = \" + str(round(slope,2)) + \"x + \" + str(round(intercept,2))\n",
    "\n",
    "# Plot scatter plot\n",
    "plt.scatter(x_values,y_values)\n",
    "\n",
    "# Plot regression line\n",
    "plt.plot(x_values,regress_values,\"r-\")\n",
    "plt.annotate(line_eq,(-50,90),fontsize=15,color=\"red\")\n",
    "\n",
    "# Label plot\n",
    "plt.xlabel('Latitude')\n",
    "plt.ylabel('Max Tempurature (F)')\n",
    "plt.title('Southern Hemisphere Tempurature vs Latitude')\n",
    "\n",
    "# Print r square value\n",
    "print(f\"R squared: {rvalue**2}\")\n",
    "\n",
    "# Show plot\n",
    "plt.show()"
   ]
  },
  {
   "cell_type": "markdown",
   "metadata": {},
   "source": [
    "####  Northern Hemisphere - Humidity (%) vs. Latitude Linear Regression"
   ]
  },
  {
   "cell_type": "code",
   "execution_count": 33,
   "metadata": {},
   "outputs": [
    {
     "name": "stdout",
     "output_type": "stream",
     "text": [
      "R squared: 2.6745251058966804e-05\n"
     ]
    },
    {
     "data": {
      "image/png": "[encoded data removed]",
      "text/plain": [
       "<Figure size 432x288 with 1 Axes>"
      ]
     },
     "metadata": {
      "needs_background": "light"
     },
     "output_type": "display_data"
    }
   ],
   "source": [
    "## Convert to floats and store Latitude and Humidity as x and y values\n",
    "x_values = northern_hemisphere['lat']\n",
    "y_values = northern_hemisphere['humidity']\n",
    "\n",
    "# Run linear regression\n",
    "(slope, intercept, rvalue, pvalue, stderr) = linregress(x_values, y_values)\n",
    "regress_values = x_values * slope + intercept\n",
    "line_eq = \"y = \" + str(round(slope,2)) + \"x + \" + str(round(intercept,2))\n",
    "\n",
    "# Plot scatter plot\n",
    "plt.scatter(x_values,y_values)\n",
    "\n",
    "# Plot regression line\n",
    "plt.plot(x_values,regress_values,\"r-\")\n",
    "plt.annotate(line_eq,(45,10),fontsize=15,color=\"red\")\n",
    "\n",
    "# Label plot\n",
    "plt.xlabel('Latitude')\n",
    "plt.ylabel('Humidity (%)')\n",
    "plt.title('Northern Hemisphere Humidity vs Latitude')\n",
    "\n",
    "# Print r square value\n",
    "print(f\"R squared: {rvalue**2}\")\n",
    "\n",
    "# Show plot\n",
    "plt.show()"
   ]
  },
  {
   "cell_type": "markdown",
   "metadata": {},
   "source": [
    "####  Southern Hemisphere - Humidity (%) vs. Latitude Linear Regression"
   ]
  },
  {
   "cell_type": "code",
   "execution_count": 34,
   "metadata": {},
   "outputs": [
    {
     "name": "stdout",
     "output_type": "stream",
     "text": [
      "R squared: 0.018078948230604915\n"
     ]
    },
    {
     "data": {
      "image/png": "[encoded data removed]",
      "text/plain": [
       "<Figure size 432x288 with 1 Axes>"
      ]
     },
     "metadata": {
      "needs_background": "light"
     },
     "output_type": "display_data"
    }
   ],
   "source": [
    "## Convert to floats and store Latitude and Humidity as x and y values\n",
    "x_values = southern_hemisphere['lat']\n",
    "y_values = southern_hemisphere['humidity']\n",
    "\n",
    "# Run linear regression\n",
    "(slope, intercept, rvalue, pvalue, stderr) = linregress(x_values, y_values)\n",
    "regress_values = x_values * slope + intercept\n",
    "line_eq = \"y = \" + str(round(slope,2)) + \"x + \" + str(round(intercept,2))\n",
    "\n",
    "# Plot scatter plot\n",
    "plt.scatter(x_values,y_values)\n",
    "\n",
    "# Plot regression line\n",
    "plt.plot(x_values,regress_values,\"r-\")\n",
    "plt.annotate(line_eq,(-55,20),fontsize=15,color=\"red\")\n",
    "\n",
    "# Label plot\n",
    "plt.xlabel('Latitude')\n",
    "plt.ylabel('Humidity (%)')\n",
    "plt.title('Southern Hemisphere Humidity vs Latitude')\n",
    "\n",
    "# Print r square value\n",
    "print(f\"R squared: {rvalue**2}\")\n",
    "\n",
    "# Show plot\n",
    "plt.show()"
   ]
  },
  {
   "cell_type": "markdown",
   "metadata": {},
   "source": [
    "####  Northern Hemisphere - Cloudiness (%) vs. Latitude Linear Regression"
   ]
  },
  {
   "cell_type": "code",
   "execution_count": 35,
   "metadata": {},
   "outputs": [
    {
     "name": "stdout",
     "output_type": "stream",
     "text": [
      "R squared: 0.003345435743532496\n"
     ]
    },
    {
     "data": {
      "image/png": "[encoded data removed]",
      "text/plain": [
       "<Figure size 432x288 with 1 Axes>"
      ]
     },
     "metadata": {
      "needs_background": "light"
     },
     "output_type": "display_data"
    }
   ],
   "source": [
    "## Convert to floats and store Latitude and Cloudiness as x and y values\n",
    "x_values = northern_hemisphere['lat']\n",
    "y_values = northern_hemisphere['cloudiness']\n",
    "\n",
    "# Run linear regression\n",
    "(slope, intercept, rvalue, pvalue, stderr) = linregress(x_values, y_values)\n",
    "regress_values = x_values * slope + intercept\n",
    "line_eq = \"y = \" + str(round(slope,2)) + \"x + \" + str(round(intercept,2))\n",
    "\n",
    "# Plot scatter plot\n",
    "plt.scatter(x_values,y_values)\n",
    "\n",
    "# Plot regression line\n",
    "plt.plot(x_values,regress_values,\"r-\")\n",
    "plt.annotate(line_eq,(45,10),fontsize=15,color=\"red\")\n",
    "\n",
    "# Label plot\n",
    "plt.xlabel('Latitude')\n",
    "plt.ylabel('Cloudiness (%)')\n",
    "plt.title('Northern Hemisphere Cloudiness vs Latitude')\n",
    "\n",
    "# Print r square value\n",
    "print(f\"R squared: {rvalue**2}\")\n",
    "\n",
    "# Show plot\n",
    "plt.show()"
   ]
  },
  {
   "cell_type": "markdown",
   "metadata": {},
   "source": [
    "####  Southern Hemisphere - Cloudiness (%) vs. Latitude Linear Regression"
   ]
  },
  {
   "cell_type": "code",
   "execution_count": 36,
   "metadata": {},
   "outputs": [
    {
     "name": "stdout",
     "output_type": "stream",
     "text": [
      "R squared: 0.0003578477470104781\n"
     ]
    },
    {
     "data": {
      "image/png": "[encoded data removed]",
      "text/plain": [
       "<Figure size 432x288 with 1 Axes>"
      ]
     },
     "metadata": {
      "needs_background": "light"
     },
     "output_type": "display_data"
    }
   ],
   "source": [
    "## Convert to floats and store Latitude and Cloudiness as x and y values\n",
    "x_values = southern_hemisphere['lat']\n",
    "y_values = southern_hemisphere['cloudiness']\n",
    "\n",
    "# Run linear regression\n",
    "(slope, intercept, rvalue, pvalue, stderr) = linregress(x_values, y_values)\n",
    "regress_values = x_values * slope + intercept\n",
    "line_eq = \"y = \" + str(round(slope,2)) + \"x + \" + str(round(intercept,2))\n",
    "\n",
    "# Plot scatter plot\n",
    "plt.scatter(x_values,y_values)\n",
    "\n",
    "# Plot regression line\n",
    "plt.plot(x_values,regress_values,\"r-\")\n",
    "plt.annotate(line_eq,(-55,60),fontsize=15,color=\"red\")\n",
    "\n",
    "# Label plot\n",
    "plt.xlabel('Latitude')\n",
    "plt.ylabel('Cloudiness (%)')\n",
    "plt.title('Southern Hemisphere Cloudiness vs Latitude')\n",
    "\n",
    "# Print r square value\n",
    "print(f\"R squared: {rvalue**2}\")\n",
    "\n",
    "# Show plot\n",
    "plt.show()"
   ]
  },
  {
   "cell_type": "markdown",
   "metadata": {},
   "source": [
    "####  Northern Hemisphere - Wind Speed (mph) vs. Latitude Linear Regression"
   ]
  },
  {
   "cell_type": "code",
   "execution_count": 37,
   "metadata": {},
   "outputs": [
    {
     "name": "stdout",
     "output_type": "stream",
     "text": [
      "R squared: 0.004347414431631111\n"
     ]
    },
    {
     "data": {
      "image/png": "[encoded data removed]",
      "text/plain": [
       "<Figure size 432x288 with 1 Axes>"
      ]
     },
     "metadata": {
      "needs_background": "light"
     },
     "output_type": "display_data"
    }
   ],
   "source": [
    "## Convert to floats and store Latitude and Wind as x and y values\n",
    "x_values = northern_hemisphere['lat']\n",
    "y_values = northern_hemisphere['wind']\n",
    "\n",
    "# Run linear regression\n",
    "(slope, intercept, rvalue, pvalue, stderr) = linregress(x_values, y_values)\n",
    "regress_values = x_values * slope + intercept\n",
    "line_eq = \"y = \" + str(round(slope,2)) + \"x + \" + str(round(intercept,2))\n",
    "\n",
    "# Plot scatter plot\n",
    "plt.scatter(x_values,y_values)\n",
    "\n",
    "# Plot regression line\n",
    "plt.plot(x_values,regress_values,\"r-\")\n",
    "plt.annotate(line_eq,(45,26),fontsize=15,color=\"red\")\n",
    "\n",
    "# Label plot\n",
    "plt.xlabel('Latitude')\n",
    "plt.ylabel('Wind (MPH)')\n",
    "plt.title('Northern Hemisphere Wind Speed vs Latitude')\n",
    "\n",
    "# Print r square value\n",
    "print(f\"R squared: {rvalue**2}\")\n",
    "\n",
    "# Show plot\n",
    "plt.show()"
   ]
  },
  {
   "cell_type": "markdown",
   "metadata": {},
   "source": [
    "####  Southern Hemisphere - Wind Speed (mph) vs. Latitude Linear Regression"
   ]
  },
  {
   "cell_type": "code",
   "execution_count": 38,
   "metadata": {},
   "outputs": [
    {
     "name": "stdout",
     "output_type": "stream",
     "text": [
      "R squared: 6.015230840826559e-06\n"
     ]
    },
    {
     "data": {
      "image/png": "[encoded data removed]",
      "text/plain": [
       "<Figure size 432x288 with 1 Axes>"
      ]
     },
     "metadata": {
      "needs_background": "light"
     },
     "output_type": "display_data"
    }
   ],
   "source": [
    "## Convert to floats and store Latitude and Wind as x and y values\n",
    "x_values = southern_hemisphere['lat']\n",
    "y_values = southern_hemisphere['wind']\n",
    "\n",
    "# Run linear regression\n",
    "(slope, intercept, rvalue, pvalue, stderr) = linregress(x_values, y_values)\n",
    "regress_values = x_values * slope + intercept\n",
    "line_eq = \"y = \" + str(round(slope,2)) + \"x + \" + str(round(intercept,2))\n",
    "\n",
    "# Plot scatter plot\n",
    "plt.scatter(x_values,y_values)\n",
    "\n",
    "# Plot regression line\n",
    "plt.plot(x_values,regress_values,\"r-\")\n",
    "plt.annotate(line_eq,(-55,22),fontsize=15,color=\"red\")\n",
    "\n",
    "# Label plot\n",
    "plt.xlabel('Latitude')\n",
    "plt.ylabel('Wind (MPH)')\n",
    "plt.title('Southern Hemisphere Wind Speed vs Latitude')\n",
    "\n",
    "# Print r square value\n",
    "print(f\"R squared: {rvalue**2}\")\n",
    "\n",
    "# Show plot\n",
    "plt.show()"
   ]
  },
  {
   "cell_type": "code",
   "execution_count": null,
   "metadata": {},
   "outputs": [],
   "source": []
  }
 ],
 "metadata": {
  "anaconda-cloud": {},
  "kernel_info": {
   "name": "python3"
  },
  "kernelspec": {
   "display_name": "Python 3",
   "language": "python",
   "name": "python3"
  },
  "language_info": {
   "codemirror_mode": {
    "name": "ipython",
    "version": 3
   },
   "file_extension": ".py",
   "mimetype": "text/x-python",
   "name": "python",
   "nbconvert_exporter": "python",
   "pygments_lexer": "ipython3",
   "version": "3.6.10"
  },
  "latex_envs": {
   "LaTeX_envs_menu_present": true,
   "autoclose": false,
   "autocomplete": true,
   "bibliofile": "biblio.bib",
   "cite_by": "apalike",
   "current_citInitial": 1,
   "eqLabelWithNumbers": true,
   "eqNumInitial": 1,
   "hotkeys": {
    "equation": "Ctrl-E",
    "itemize": "Ctrl-I"
   },
   "labels_anchors": false,
   "latex_user_defs": false,
   "report_style_numbering": false,
   "user_envs_cfg": false
  },
  "nteract": {
   "version": "0.12.3"
  }
 },
 "nbformat": 4,
 "nbformat_minor": 2
}
