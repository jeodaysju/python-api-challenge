{
 "cells": [
  {
   "cell_type": "markdown",
   "metadata": {},
   "source": [
    "# WeatherPy\n",
    "----\n",
    "\n",
    "#### Note\n",
    "* Instructions have been included for each segment. You do not have to follow them exactly, but they are included to help you think through the steps."
   ]
  },
  {
   "cell_type": "code",
   "execution_count": 39,
   "metadata": {
    "scrolled": true
   },
   "outputs": [],
   "source": [
    "# Dependencies and Setup\n",
    "import matplotlib.pyplot as plt\n",
    "import pandas as pd\n",
    "import numpy as np\n",
    "import requests\n",
    "import time\n",
    "from scipy.stats import linregress\n",
    "\n",
    "# Import API key\n",
    "from config import weather_api_key\n",
    "\n",
    "# Incorporated citipy to determine city based on latitude and longitude\n",
    "from citipy import citipy\n",
    "\n",
    "# Output File (CSV)\n",
    "output_data_file = \"output_data/cities.csv\"\n",
    "\n",
    "# Range of latitudes and longitudes\n",
    "lat_range = (-90, 90)\n",
    "lng_range = (-180, 180)"
   ]
  },
  {
   "cell_type": "markdown",
   "metadata": {},
   "source": [
    "## Generate Cities List"
   ]
  },
  {
   "cell_type": "code",
   "execution_count": 40,
   "metadata": {},
   "outputs": [
    {
     "data": {
      "text/plain": [
       "597"
      ]
     },
     "execution_count": 40,
     "metadata": {},
     "output_type": "execute_result"
    }
   ],
   "source": [
    "# List for holding lat_lngs and cities\n",
    "lat_lngs = []\n",
    "cities = []\n",
    "\n",
    "# Create a set of random lat and lng combinations\n",
    "lats = np.random.uniform(lat_range[0], lat_range[1], size=1500)\n",
    "lngs = np.random.uniform(lng_range[0], lng_range[1], size=1500)\n",
    "lat_lngs = zip(lats, lngs)\n",
    "\n",
    "# Identify nearest city for each lat, lng combination\n",
    "for lat_lng in lat_lngs:\n",
    "    city = citipy.nearest_city(lat_lng[0], lat_lng[1]).city_name\n",
    "    \n",
    "    # If the city is unique, then add it to a our cities list\n",
    "    if city not in cities:\n",
    "        cities.append(city)\n",
    "\n",
    "# Print the city count to confirm sufficient count\n",
    "len(cities)"
   ]
  },
  {
   "cell_type": "markdown",
   "metadata": {},
   "source": [
    "### Perform API Calls\n",
    "* Perform a weather check on each city using a series of successive API calls.\n",
    "* Include a print log of each city as it'sbeing processed (with the city number and city name).\n"
   ]
  },
  {
   "cell_type": "code",
   "execution_count": 41,
   "metadata": {},
   "outputs": [],
   "source": [
    "# Save config information.\n",
    "url = \"http://api.openweathermap.org/data/2.5/weather?\"\n",
    "units = \"imperial\"\n",
    "\n",
    "# Build partial query URL\n",
    "query_url = f\"{url}appid={weather_api_key}&units={units}&q=\""
   ]
  },
  {
   "cell_type": "code",
   "execution_count": 44,
   "metadata": {},
   "outputs": [
    {
     "name": "stdout",
     "output_type": "stream",
     "text": [
      "Processing record: ribeira grande.\n",
      "Processing record: busselton.\n",
      "Processing record: jinchang.\n",
      "Processing record: lock haven.\n",
      "Processing record: rikitea.\n",
      "Processing record: tabou.\n",
      "Processing record: thompson.\n",
      "Processing record: loikaw.\n",
      "Processing record: kapaa.\n",
      "Processing record: mataura.\n",
      "Processing record: khatanga.\n",
      "Processing record: kodiak.\n",
      "Processing record: rawson.\n",
      "Processing record: mar del plata.\n",
      "Processing record: cacequi.\n",
      "Processing record: biak.\n",
      "Processing record: bredasdorp.\n",
      "Processing record: provideniya.\n",
      "Processing record: vitry-le-francois.\n",
      "Processing record: ushuaia.\n",
      "Processing record: dikson.\n",
      "Processing record: nikolskoye.\n",
      "Processing record: artyom.\n",
      "Processing record: chaparral.\n",
      "Processing record: port alfred.\n",
      "Processing record: ambilobe.\n",
      "Processing record: narsaq.\n",
      "Processing record: bantry.\n",
      "Processing record: longyearbyen.\n",
      "Processing record: vaini.\n",
      "Processing record: atuona.\n",
      "Processing record: avarua.\n",
      "Processing record: souillac.\n",
      "Processing record: mbuji-mayi.\n",
      "Processing record: pangody.\n",
      "Processing record: novoagansk.\n",
      "Processing record: carlsbad.\n",
      "City: linchuan was mot found. Skipping...\n",
      "Processing record: upernavik.\n",
      "Processing record: bethel.\n",
      "Processing record: stony plain.\n",
      "Processing record: roma.\n",
      "Processing record: kamenka.\n",
      "Processing record: hilo.\n",
      "Processing record: beringovskiy.\n",
      "Processing record: saldanha.\n",
      "Processing record: yining.\n",
      "Processing record: jamestown.\n",
      "Processing record: east london.\n",
      "Processing record: riyadh.\n",
      "Processing record: punta arenas.\n",
      "Processing record: luderitz.\n",
      "Processing record: arraial do cabo.\n",
      "Processing record: barrow.\n",
      "Processing record: nanortalik.\n",
      "Processing record: salinopolis.\n",
      "Processing record: port elizabeth.\n",
      "Processing record: cabo san lucas.\n",
      "Processing record: maralal.\n",
      "Processing record: tuktoyaktuk.\n",
      "Processing record: the valley.\n",
      "Processing record: cayenne.\n",
      "Processing record: hobart.\n",
      "Processing record: jalu.\n",
      "Processing record: troyes.\n",
      "Processing record: new norfolk.\n",
      "City: bacuit was mot found. Skipping...\n",
      "City: vaitupu was mot found. Skipping...\n",
      "Processing record: bolshoye nagatkino.\n",
      "Processing record: san matias.\n",
      "City: belushya guba was mot found. Skipping...\n",
      "Processing record: vestmannaeyjar.\n",
      "Processing record: kruisfontein.\n",
      "City: illoqqortoormiut was mot found. Skipping...\n",
      "Processing record: kutum.\n",
      "Processing record: fare.\n",
      "Processing record: kloulklubed.\n",
      "Processing record: kavieng.\n",
      "Processing record: hermanus.\n",
      "Processing record: yumen.\n",
      "Processing record: olafsvik.\n",
      "Processing record: paysandu.\n",
      "City: taolanaro was mot found. Skipping...\n",
      "Processing record: buzmeyin.\n",
      "Processing record: jibuti.\n",
      "Processing record: caravelas.\n",
      "Processing record: minot.\n",
      "Processing record: athabasca.\n",
      "Processing record: havoysund.\n",
      "Processing record: waipawa.\n",
      "Processing record: les cayes.\n",
      "Processing record: mahajanga.\n",
      "City: do rud was mot found. Skipping...\n",
      "Processing record: dashitou.\n",
      "Processing record: tasiilaq.\n",
      "Processing record: basi.\n",
      "Processing record: yellowknife.\n",
      "City: nizhneyansk was mot found. Skipping...\n",
      "Processing record: vila franca do campo.\n",
      "Processing record: bluff.\n",
      "Processing record: grand gaube.\n",
      "Processing record: puerto ayora.\n",
      "Processing record: gravdal.\n",
      "Processing record: kuryk.\n",
      "Processing record: sitka.\n",
      "Processing record: nhulunbuy.\n",
      "Processing record: hearst.\n",
      "Processing record: faanui.\n",
      "City: kegayli was mot found. Skipping...\n",
      "Processing record: hudson bay.\n",
      "City: grand river south east was mot found. Skipping...\n",
      "Processing record: kodino.\n",
      "Processing record: chokurdakh.\n",
      "Processing record: tocopilla.\n",
      "Processing record: bandar-e lengeh.\n",
      "Processing record: leningradskiy.\n",
      "Processing record: guerrero negro.\n",
      "Processing record: bambous virieux.\n",
      "Processing record: chebenki.\n",
      "Processing record: lasa.\n",
      "City: sentyabrskiy was mot found. Skipping...\n",
      "Processing record: coihaique.\n",
      "Processing record: tuni.\n",
      "Processing record: svetlogorsk.\n",
      "Processing record: luganville.\n",
      "City: barentsburg was mot found. Skipping...\n",
      "Processing record: lagoa.\n",
      "Processing record: ilulissat.\n",
      "Processing record: mayumba.\n",
      "Processing record: victor harbor.\n",
      "Processing record: kurchanskaya.\n",
      "Processing record: georgetown.\n",
      "Processing record: chandler.\n",
      "Processing record: torbay.\n",
      "Processing record: albany.\n",
      "Processing record: beyneu.\n",
      "Processing record: chuy.\n",
      "Processing record: talnakh.\n",
      "City: meyungs was mot found. Skipping...\n",
      "Processing record: dese.\n",
      "Processing record: at-bashi.\n",
      "Processing record: lavrentiya.\n",
      "Processing record: bandarbeyla.\n",
      "Processing record: tautira.\n",
      "Processing record: ruteng.\n",
      "City: karaul was mot found. Skipping...\n",
      "Processing record: mahebourg.\n",
      "Processing record: gornopravdinsk.\n",
      "Processing record: ardakan.\n",
      "Processing record: victoria.\n",
      "Processing record: samarai.\n",
      "Processing record: atar.\n",
      "Processing record: tilichiki.\n",
      "Processing record: inta.\n",
      "Processing record: padang.\n",
      "Processing record: cape town.\n",
      "Processing record: jizan.\n",
      "Processing record: zhigansk.\n",
      "Processing record: titay.\n",
      "Processing record: ternovka.\n",
      "Processing record: airai.\n",
      "City: haibowan was mot found. Skipping...\n",
      "Processing record: chabahar.\n",
      "Processing record: nemuro.\n",
      "Processing record: plettenberg bay.\n",
      "Processing record: bodmin.\n",
      "Processing record: ukiah.\n",
      "Processing record: esperance.\n",
      "Processing record: ust-maya.\n",
      "Processing record: tura.\n",
      "Processing record: shwebo.\n",
      "Processing record: hami.\n",
      "Processing record: flinders.\n",
      "Processing record: carnarvon.\n",
      "Processing record: severo-kurilsk.\n",
      "Processing record: norman wells.\n",
      "Processing record: nekrasovskaya.\n",
      "Processing record: hithadhoo.\n",
      "Processing record: emba.\n",
      "Processing record: khorixas.\n",
      "Processing record: dongsheng.\n",
      "Processing record: port lincoln.\n",
      "Processing record: salalah.\n",
      "Processing record: tiznit.\n",
      "Processing record: pevek.\n",
      "Processing record: novyy urengoy.\n",
      "Processing record: qaanaaq.\n",
      "Processing record: vila.\n",
      "Processing record: hasaki.\n",
      "Processing record: divo.\n",
      "City: kazalinsk was mot found. Skipping...\n",
      "Processing record: gori.\n",
      "Processing record: xiuyan.\n",
      "Processing record: sao desiderio.\n",
      "Processing record: saskylakh.\n",
      "Processing record: muncar.\n",
      "Processing record: codrington.\n",
      "Processing record: butaritari.\n",
      "Processing record: chernyshevskiy.\n",
      "Processing record: lodja.\n",
      "City: tsihombe was mot found. Skipping...\n",
      "Processing record: matara.\n",
      "Processing record: parga.\n",
      "Processing record: yaan.\n",
      "Processing record: omboue.\n",
      "Processing record: mount gambier.\n",
      "Processing record: cherskiy.\n",
      "Processing record: kahului.\n",
      "Processing record: henties bay.\n",
      "Processing record: ipaussu.\n",
      "City: umzimvubu was mot found. Skipping...\n",
      "Processing record: russell.\n",
      "Processing record: tiksi.\n",
      "Processing record: san cristobal.\n",
      "Processing record: marsh harbour.\n",
      "Processing record: batagay-alyta.\n",
      "Processing record: saint anthony.\n",
      "Processing record: portland.\n",
      "Processing record: baykit.\n",
      "Processing record: trelew.\n",
      "Processing record: ancud.\n",
      "Processing record: xuanhua.\n",
      "City: hvammstangi was mot found. Skipping...\n",
      "Processing record: paamiut.\n",
      "Processing record: richards bay.\n",
      "Processing record: kaitangata.\n",
      "Processing record: athens.\n",
      "Processing record: zemio.\n",
      "Processing record: berdigestyakh.\n",
      "Processing record: cheremkhovo.\n",
      "Processing record: hofn.\n",
      "City: bolungarvik was mot found. Skipping...\n",
      "Processing record: lebu.\n",
      "Processing record: castro.\n",
      "Processing record: sagone.\n",
      "Processing record: kindu.\n",
      "Processing record: marovoay.\n",
      "Processing record: alice springs.\n",
      "Processing record: lakes entrance.\n",
      "Processing record: sambava.\n",
      "Processing record: aklavik.\n",
      "Processing record: jardim.\n",
      "Processing record: talgar.\n",
      "Processing record: fergus falls.\n",
      "Processing record: praya.\n",
      "Processing record: ayia galini.\n",
      "Processing record: tazovskiy.\n",
      "City: attawapiskat was mot found. Skipping...\n",
      "Processing record: la ronge.\n",
      "City: saleaula was mot found. Skipping...\n",
      "Processing record: biltine.\n",
      "Processing record: casian.\n",
      "Processing record: labuhan.\n",
      "Processing record: vardo.\n",
      "Processing record: beihai.\n",
      "Processing record: iqaluit.\n",
      "Processing record: bathsheba.\n",
      "Processing record: honningsvag.\n",
      "Processing record: pundaguitan.\n",
      "Processing record: nyurba.\n",
      "Processing record: weiser.\n",
      "Processing record: coquimbo.\n",
      "Processing record: buraydah.\n",
      "Processing record: cabedelo.\n",
      "Processing record: yulara.\n",
      "Processing record: anadyr.\n",
      "Processing record: formosa.\n",
      "Processing record: alofi.\n",
      "Processing record: rodnykove.\n",
      "Processing record: dolores.\n"
     ]
    },
    {
     "name": "stdout",
     "output_type": "stream",
     "text": [
      "Processing record: rocha.\n",
      "City: babanusah was mot found. Skipping...\n",
      "Processing record: san patricio.\n",
      "Processing record: potiskum.\n",
      "Processing record: chapais.\n",
      "Processing record: paoua.\n",
      "Processing record: lubbock.\n",
      "Processing record: santa vitoria do palmar.\n",
      "Processing record: yenagoa.\n",
      "City: kamenskoye was mot found. Skipping...\n",
      "Processing record: laguna.\n",
      "Processing record: price.\n",
      "Processing record: todos santos.\n",
      "Processing record: bambanglipuro.\n",
      "Processing record: mpanda.\n",
      "City: sorvag was mot found. Skipping...\n",
      "Processing record: conceicao da barra.\n",
      "Processing record: half moon bay.\n",
      "City: karkaralinsk was mot found. Skipping...\n",
      "Processing record: haines junction.\n",
      "Processing record: bilibino.\n",
      "Processing record: aden.\n",
      "Processing record: carauari.\n",
      "Processing record: nouadhibou.\n",
      "Processing record: broome.\n",
      "Processing record: jieshi.\n",
      "Processing record: vostok.\n",
      "Processing record: north bend.\n",
      "Processing record: ndago.\n",
      "Processing record: sobolevo.\n",
      "Processing record: ignacio zaragoza.\n",
      "Processing record: lyudinovo.\n",
      "Processing record: tuatapere.\n",
      "Processing record: margate.\n",
      "Processing record: nabire.\n",
      "Processing record: nago.\n",
      "Processing record: alvdal.\n",
      "Processing record: los llanos de aridane.\n",
      "Processing record: saint-philippe.\n",
      "Processing record: sola.\n",
      "Processing record: meseista.\n",
      "Processing record: florence.\n",
      "Processing record: urumqi.\n",
      "Processing record: meridian.\n",
      "Processing record: trimbak.\n",
      "Processing record: plouzane.\n",
      "Processing record: kazachka.\n",
      "Processing record: te anau.\n",
      "Processing record: wencheng.\n",
      "Processing record: troitsko-pechorsk.\n",
      "Processing record: touros.\n",
      "Processing record: kuala terengganu.\n",
      "Processing record: mormugao.\n",
      "Processing record: antofagasta.\n",
      "Processing record: isla vista.\n",
      "Processing record: tripoli.\n",
      "Processing record: bengkulu.\n",
      "Processing record: santiago.\n",
      "City: stoyba was mot found. Skipping...\n",
      "Processing record: saint-pierre.\n",
      "Processing record: vanavara.\n",
      "Processing record: port blair.\n",
      "Processing record: tvoroyri.\n",
      "Processing record: guru har sahai.\n",
      "Processing record: korla.\n",
      "Processing record: san jose.\n",
      "City: phan rang was mot found. Skipping...\n",
      "City: doctor pedro p. pena was mot found. Skipping...\n",
      "Processing record: ishigaki.\n",
      "Processing record: vaitape.\n",
      "Processing record: catamarca.\n",
      "Processing record: zunyi.\n",
      "Processing record: huarmey.\n",
      "Processing record: nome.\n",
      "Processing record: tafresh.\n",
      "Processing record: fukue.\n",
      "Processing record: charters towers.\n",
      "Processing record: shingu.\n",
      "Processing record: mogzon.\n",
      "Processing record: ngunguru.\n",
      "Processing record: eyl.\n",
      "Processing record: acapulco.\n",
      "Processing record: argostolion.\n",
      "City: mys shmidta was mot found. Skipping...\n",
      "Processing record: vidim.\n",
      "Processing record: inhambane.\n",
      "City: nguiu was mot found. Skipping...\n",
      "Processing record: avera.\n",
      "City: urdzhar was mot found. Skipping...\n",
      "Processing record: rio gallegos.\n",
      "Processing record: bairiki.\n",
      "Processing record: havelock.\n",
      "Processing record: lixourion.\n",
      "Processing record: cravo norte.\n",
      "Processing record: vrangel.\n",
      "Processing record: sao joao da barra.\n",
      "Processing record: la rioja.\n",
      "Processing record: chiang kham.\n",
      "Processing record: dombarovskiy.\n",
      "Processing record: batemans bay.\n",
      "Processing record: puerto madryn.\n",
      "Processing record: posse.\n",
      "Processing record: altamont.\n",
      "Processing record: puerto del rosario.\n",
      "Processing record: juba.\n",
      "Processing record: pisco.\n",
      "City: parras was mot found. Skipping...\n",
      "Processing record: myitkyina.\n",
      "Processing record: carmelo.\n",
      "Processing record: strathmore.\n",
      "City: warqla was mot found. Skipping...\n",
      "Processing record: bac lieu.\n",
      "Processing record: cosala.\n",
      "Processing record: okha.\n",
      "Processing record: kuytun.\n",
      "Processing record: markova.\n",
      "Processing record: methoni.\n",
      "Processing record: aldan.\n",
      "Processing record: clyde river.\n",
      "Processing record: hobyo.\n",
      "Processing record: ewa beach.\n",
      "Processing record: axim.\n",
      "Processing record: odweyne.\n",
      "Processing record: manyana.\n",
      "Processing record: inirida.\n",
      "City: marcona was mot found. Skipping...\n",
      "Processing record: kieta.\n",
      "Processing record: kanash.\n",
      "Processing record: honiara.\n",
      "Processing record: arcachon.\n",
      "Processing record: buala.\n",
      "Processing record: abay.\n",
      "City: sumbawa was mot found. Skipping...\n",
      "City: tabiauea was mot found. Skipping...\n",
      "Processing record: arvika.\n",
      "Processing record: umm kaddadah.\n",
      "City: amderma was mot found. Skipping...\n",
      "Processing record: muscat.\n",
      "Processing record: jyvaskyla.\n",
      "Processing record: geraldton.\n",
      "Processing record: new glasgow.\n",
      "Processing record: sao filipe.\n",
      "Processing record: muros.\n",
      "Processing record: bosaso.\n",
      "Processing record: vannes.\n",
      "City: barawe was mot found. Skipping...\n",
      "Processing record: kikwit.\n",
      "Processing record: ha tinh.\n",
      "Processing record: businga.\n",
      "Processing record: magaria.\n",
      "Processing record: beloha.\n",
      "Processing record: polunochnoye.\n",
      "Processing record: arawa.\n",
      "Processing record: roald.\n",
      "Processing record: burgersdorp.\n",
      "Processing record: grootfontein.\n",
      "Processing record: san ramon.\n",
      "Processing record: silver city.\n",
      "Processing record: biskupiec.\n",
      "Processing record: shamkhal.\n",
      "Processing record: skjervoy.\n",
      "City: karakendzha was mot found. Skipping...\n",
      "Processing record: suda.\n",
      "City: igarape-miri was mot found. Skipping...\n",
      "Processing record: ibotirama.\n",
      "Processing record: porto murtinho.\n",
      "Processing record: pailon.\n",
      "Processing record: lerwick.\n",
      "Processing record: blagoyevo.\n",
      "Processing record: saint george.\n",
      "Processing record: gushikawa.\n",
      "Processing record: ponta do sol.\n",
      "Processing record: nelson bay.\n",
      "Processing record: kibala.\n",
      "Processing record: kirakira.\n",
      "Processing record: sept-iles.\n",
      "Processing record: leshukonskoye.\n",
      "Processing record: verkhnevilyuysk.\n",
      "Processing record: williamsport.\n",
      "Processing record: bodden town.\n",
      "Processing record: sroda wielkopolska.\n",
      "Processing record: arman.\n",
      "Processing record: fenyi.\n",
      "Processing record: fairbanks.\n",
      "Processing record: huilong.\n",
      "Processing record: okhotsk.\n",
      "Processing record: kitob.\n",
      "Processing record: nambucca heads.\n",
      "Processing record: egvekinot.\n",
      "Processing record: machiques.\n",
      "City: opobo was mot found. Skipping...\n",
      "City: port-de-paix was mot found. Skipping...\n",
      "Processing record: cap malheureux.\n",
      "Processing record: gabu.\n",
      "Processing record: san lorenzo.\n",
      "Processing record: bara.\n",
      "Processing record: sabalgarh.\n",
      "Processing record: dahuk.\n",
      "Processing record: gat.\n",
      "Processing record: boyolangu.\n",
      "Processing record: imbituba.\n",
      "Processing record: aswan.\n",
      "Processing record: poum.\n",
      "Processing record: naantali.\n",
      "Processing record: lumeje.\n",
      "Processing record: balaipungut.\n",
      "Processing record: handia.\n",
      "Processing record: madera.\n",
      "Processing record: cockburn town.\n",
      "Processing record: chumikan.\n",
      "Processing record: manama.\n",
      "Processing record: ahipara.\n",
      "Processing record: vagur.\n",
      "Processing record: bonthe.\n",
      "Processing record: pimentel.\n",
      "Processing record: farap.\n",
      "Processing record: sistranda.\n",
      "Processing record: sorland.\n",
      "Processing record: bahia honda.\n",
      "Processing record: kavaratti.\n",
      "Processing record: celendin.\n",
      "Processing record: knysna.\n",
      "City: tongsa was mot found. Skipping...\n",
      "Processing record: diavatos.\n",
      "Processing record: port hardy.\n",
      "Processing record: port hedland.\n",
      "Processing record: ler.\n",
      "Processing record: gazanjyk.\n",
      "Processing record: esmeralda.\n",
      "Processing record: tezu.\n",
      "Processing record: gouyave.\n",
      "Processing record: ostrovnoy.\n",
      "Processing record: andrews.\n",
      "Processing record: hualmay.\n",
      "Processing record: husavik.\n",
      "Processing record: jacqueville.\n",
      "Processing record: kaitong.\n",
      "Processing record: namatanai.\n",
      "Processing record: sinnamary.\n",
      "Processing record: kosonsoy.\n",
      "Processing record: blackfoot.\n",
      "Processing record: estelle.\n",
      "Processing record: vila do maio.\n",
      "Processing record: port moresby.\n",
      "Processing record: limon.\n",
      "Processing record: natchitoches.\n",
      "Processing record: faya.\n",
      "Processing record: berga.\n",
      "Processing record: poronaysk.\n",
      "Processing record: constitucion.\n",
      "Processing record: auki.\n",
      "Processing record: necochea.\n",
      "Processing record: ixtapa.\n",
      "Processing record: merrill.\n",
      "City: tumannyy was mot found. Skipping...\n",
      "Processing record: la tuque.\n",
      "Processing record: progreso.\n",
      "Processing record: san quintin.\n",
      "Processing record: camacha.\n",
      "Processing record: viloco.\n",
      "Processing record: mlowo.\n",
      "Processing record: salt.\n",
      "City: palabuhanratu was mot found. Skipping...\n",
      "Processing record: jiutai.\n",
      "Processing record: kuching.\n",
      "Processing record: belaya gora.\n",
      "Processing record: belyy yar.\n",
      "Processing record: mookane.\n",
      "Processing record: bilma.\n",
      "Processing record: panaba.\n",
      "Processing record: christchurch.\n"
     ]
    },
    {
     "name": "stdout",
     "output_type": "stream",
     "text": [
      "Processing record: isangel.\n",
      "Processing record: hervey bay.\n",
      "Processing record: cidreira.\n",
      "City: yanan was mot found. Skipping...\n",
      "Processing record: kiama.\n",
      "Processing record: zhoucheng.\n",
      "Processing record: xai-xai.\n",
      "City: puerto pinasco was mot found. Skipping...\n",
      "Processing record: itarema.\n",
      "Processing record: trinidad.\n",
      "Processing record: kaeo.\n",
      "Processing record: paka.\n",
      "Processing record: sao felix do xingu.\n",
      "Processing record: mehamn.\n",
      "Processing record: qasigiannguit.\n",
      "Processing record: atasu.\n",
      "Processing record: dicabisagan.\n",
      "Processing record: ostersund.\n",
      "Processing record: makat.\n",
      "Processing record: buluang.\n",
      "Processing record: tual.\n",
      "Processing record: praia da vitoria.\n",
      "Processing record: yarada.\n",
      "Processing record: bursa.\n",
      "Processing record: sayyan.\n",
      "Processing record: lorengau.\n",
      "Processing record: idah.\n",
      "Processing record: dehloran.\n",
      "Processing record: viedma.\n",
      "Processing record: karratha.\n",
      "Processing record: coahuayana.\n",
      "Processing record: reading.\n",
      "Processing record: chadiza.\n",
      "Processing record: mayo.\n",
      "Processing record: qujing.\n",
      "Processing record: sovetskiy.\n",
      "Processing record: tinskoy.\n",
      "Processing record: karoi.\n",
      "City: ituni was mot found. Skipping...\n",
      "Processing record: kunming.\n",
      "Processing record: lompoc.\n",
      "Processing record: makakilo city.\n",
      "Processing record: linden.\n",
      "Processing record: chiredzi.\n",
      "Processing record: molina.\n",
      "Processing record: altay.\n",
      "Processing record: calamar.\n",
      "Processing record: rajula.\n",
      "Processing record: taonan.\n",
      "Processing record: severomuysk.\n",
      "Processing record: prince rupert.\n",
      "Processing record: deputatskiy.\n",
      "Processing record: brownfield.\n",
      "Processing record: ketchikan.\n",
      "Processing record: suozhen.\n",
      "Processing record: lata.\n"
     ]
    }
   ],
   "source": [
    "# cities2 = ['touros', 'saint anthony', 'san patricio']\n",
    "\n",
    "# set up lists to hold reponse info -- append to it in the loop below\n",
    "name = []\n",
    "lat = []\n",
    "long = []\n",
    "temp = []\n",
    "wind = []\n",
    "humid = []\n",
    "clouds = []\n",
    "country = []\n",
    "\n",
    "# Loop through the list of cities and perform a request for data on each\n",
    "for city in cities:\n",
    "    try:\n",
    "        response = requests.get(query_url + city).json()\n",
    "        name.append(response['name'])\n",
    "        lat.append(response['coord']['lat'])\n",
    "        long.append(response['coord']['lon'])\n",
    "        temp.append(response['main']['temp_max'])\n",
    "        humid.append(response['main']['humidity'])\n",
    "        wind.append(response['wind']['speed'])\n",
    "        clouds.append(response['clouds']['all'])\n",
    "        country.append(response['sys']['country'])\n",
    "        print(f\"Processing record: {city}.\")\n",
    "    except:\n",
    "        # Append null values\n",
    "        print(f\"City: {city} was mot found. Skipping...\")\n",
    "#         print(\"City not found skipping\")\n",
    "        pass\n"
   ]
  },
  {
   "cell_type": "markdown",
   "metadata": {},
   "source": [
    "### Convert Raw Data to DataFrame\n",
    "* Export the city data into a .csv.\n",
    "* Display the DataFrame"
   ]
  },
  {
   "cell_type": "code",
   "execution_count": 45,
   "metadata": {},
   "outputs": [
    {
     "data": {
      "text/html": [
       "<div>\n",
       "<style scoped>\n",
       "    .dataframe tbody tr th:only-of-type {\n",
       "        vertical-align: middle;\n",
       "    }\n",
       "\n",
       "    .dataframe tbody tr th {\n",
       "        vertical-align: top;\n",
       "    }\n",
       "\n",
       "    .dataframe thead th {\n",
       "        text-align: right;\n",
       "    }\n",
       "</style>\n",
       "<table border=\"1\" class=\"dataframe\">\n",
       "  <thead>\n",
       "    <tr style=\"text-align: right;\">\n",
       "      <th></th>\n",
       "      <th>city</th>\n",
       "      <th>lat</th>\n",
       "      <th>lon</th>\n",
       "      <th>temp</th>\n",
       "      <th>humidity</th>\n",
       "      <th>wind</th>\n",
       "      <th>cloudiness</th>\n",
       "      <th>country</th>\n",
       "    </tr>\n",
       "  </thead>\n",
       "  <tbody>\n",
       "    <tr>\n",
       "      <th>0</th>\n",
       "      <td>Ribeira Grande</td>\n",
       "      <td>38.52</td>\n",
       "      <td>-28.70</td>\n",
       "      <td>74.10</td>\n",
       "      <td>90</td>\n",
       "      <td>11.90</td>\n",
       "      <td>10</td>\n",
       "      <td>PT</td>\n",
       "    </tr>\n",
       "    <tr>\n",
       "      <th>1</th>\n",
       "      <td>Busselton</td>\n",
       "      <td>-33.65</td>\n",
       "      <td>115.33</td>\n",
       "      <td>58.15</td>\n",
       "      <td>65</td>\n",
       "      <td>4.50</td>\n",
       "      <td>99</td>\n",
       "      <td>AU</td>\n",
       "    </tr>\n",
       "    <tr>\n",
       "      <th>2</th>\n",
       "      <td>Jinchang</td>\n",
       "      <td>38.50</td>\n",
       "      <td>102.17</td>\n",
       "      <td>75.06</td>\n",
       "      <td>29</td>\n",
       "      <td>10.71</td>\n",
       "      <td>97</td>\n",
       "      <td>CN</td>\n",
       "    </tr>\n",
       "    <tr>\n",
       "      <th>3</th>\n",
       "      <td>Lock Haven</td>\n",
       "      <td>41.14</td>\n",
       "      <td>-77.45</td>\n",
       "      <td>87.01</td>\n",
       "      <td>43</td>\n",
       "      <td>3.00</td>\n",
       "      <td>45</td>\n",
       "      <td>US</td>\n",
       "    </tr>\n",
       "    <tr>\n",
       "      <th>4</th>\n",
       "      <td>Rikitea</td>\n",
       "      <td>-23.12</td>\n",
       "      <td>-134.97</td>\n",
       "      <td>72.27</td>\n",
       "      <td>77</td>\n",
       "      <td>18.07</td>\n",
       "      <td>96</td>\n",
       "      <td>PF</td>\n",
       "    </tr>\n",
       "    <tr>\n",
       "      <th>...</th>\n",
       "      <td>...</td>\n",
       "      <td>...</td>\n",
       "      <td>...</td>\n",
       "      <td>...</td>\n",
       "      <td>...</td>\n",
       "      <td>...</td>\n",
       "      <td>...</td>\n",
       "      <td>...</td>\n",
       "    </tr>\n",
       "    <tr>\n",
       "      <th>95</th>\n",
       "      <td>Quryq</td>\n",
       "      <td>43.20</td>\n",
       "      <td>51.65</td>\n",
       "      <td>80.15</td>\n",
       "      <td>24</td>\n",
       "      <td>15.43</td>\n",
       "      <td>72</td>\n",
       "      <td>KZ</td>\n",
       "    </tr>\n",
       "    <tr>\n",
       "      <th>96</th>\n",
       "      <td>Sitka</td>\n",
       "      <td>57.05</td>\n",
       "      <td>-135.33</td>\n",
       "      <td>62.60</td>\n",
       "      <td>72</td>\n",
       "      <td>5.95</td>\n",
       "      <td>75</td>\n",
       "      <td>US</td>\n",
       "    </tr>\n",
       "    <tr>\n",
       "      <th>97</th>\n",
       "      <td>Nhulunbuy</td>\n",
       "      <td>-12.23</td>\n",
       "      <td>136.77</td>\n",
       "      <td>75.20</td>\n",
       "      <td>53</td>\n",
       "      <td>16.11</td>\n",
       "      <td>87</td>\n",
       "      <td>AU</td>\n",
       "    </tr>\n",
       "    <tr>\n",
       "      <th>98</th>\n",
       "      <td>Hearst</td>\n",
       "      <td>49.68</td>\n",
       "      <td>-83.67</td>\n",
       "      <td>61.74</td>\n",
       "      <td>88</td>\n",
       "      <td>7.16</td>\n",
       "      <td>99</td>\n",
       "      <td>CA</td>\n",
       "    </tr>\n",
       "    <tr>\n",
       "      <th>99</th>\n",
       "      <td>Faanui</td>\n",
       "      <td>-16.48</td>\n",
       "      <td>-151.75</td>\n",
       "      <td>79.38</td>\n",
       "      <td>75</td>\n",
       "      <td>21.70</td>\n",
       "      <td>100</td>\n",
       "      <td>PF</td>\n",
       "    </tr>\n",
       "  </tbody>\n",
       "</table>\n",
       "<p>100 rows × 8 columns</p>\n",
       "</div>"
      ],
      "text/plain": [
       "              city    lat     lon   temp  humidity   wind  cloudiness country\n",
       "0   Ribeira Grande  38.52  -28.70  74.10        90  11.90          10      PT\n",
       "1        Busselton -33.65  115.33  58.15        65   4.50          99      AU\n",
       "2         Jinchang  38.50  102.17  75.06        29  10.71          97      CN\n",
       "3       Lock Haven  41.14  -77.45  87.01        43   3.00          45      US\n",
       "4          Rikitea -23.12 -134.97  72.27        77  18.07          96      PF\n",
       "..             ...    ...     ...    ...       ...    ...         ...     ...\n",
       "95           Quryq  43.20   51.65  80.15        24  15.43          72      KZ\n",
       "96           Sitka  57.05 -135.33  62.60        72   5.95          75      US\n",
       "97       Nhulunbuy -12.23  136.77  75.20        53  16.11          87      AU\n",
       "98          Hearst  49.68  -83.67  61.74        88   7.16          99      CA\n",
       "99          Faanui -16.48 -151.75  79.38        75  21.70         100      PF\n",
       "\n",
       "[100 rows x 8 columns]"
      ]
     },
     "execution_count": 45,
     "metadata": {},
     "output_type": "execute_result"
    }
   ],
   "source": [
    "# create a data frame from cities, lat, and temp -- dictionary to a pd.DataFrame\n",
    "weather_dict = {\n",
    "    \"city\": name,\n",
    "    \"lat\": lat,\n",
    "    \"lon\": long,\n",
    "    \"temp\": temp,\n",
    "    \"humidity\": humid,\n",
    "    \"wind\": wind,\n",
    "    \"cloudiness\": clouds,\n",
    "    \"country\": country\n",
    "}\n",
    "weather_data = pd.DataFrame(weather_dict)\n",
    "weather_data.head(100)"
   ]
  },
  {
   "cell_type": "code",
   "execution_count": 46,
   "metadata": {},
   "outputs": [],
   "source": [
    "weather_data.to_csv('Datafolder/weather_data_df.csv', index=False)"
   ]
  },
  {
   "cell_type": "markdown",
   "metadata": {},
   "source": [
    "## Inspect the data and remove the cities where the humidity > 100%.\n",
    "----\n",
    "Skip this step if there are no cities that have humidity > 100%. "
   ]
  },
  {
   "cell_type": "code",
   "execution_count": 47,
   "metadata": {},
   "outputs": [
    {
     "data": {
      "text/plain": [
       "city           object\n",
       "lat           float64\n",
       "lon           float64\n",
       "temp          float64\n",
       "humidity        int64\n",
       "wind          float64\n",
       "cloudiness      int64\n",
       "country        object\n",
       "dtype: object"
      ]
     },
     "execution_count": 47,
     "metadata": {},
     "output_type": "execute_result"
    }
   ],
   "source": [
    "weather_data.dtypes"
   ]
  },
  {
   "cell_type": "code",
   "execution_count": 48,
   "metadata": {},
   "outputs": [
    {
     "data": {
      "text/plain": [
       "Int64Index([], dtype='int64')"
      ]
     },
     "execution_count": 48,
     "metadata": {},
     "output_type": "execute_result"
    }
   ],
   "source": [
    "#  Get the indices of cities that have humidity over 100%.\n",
    "ind_humidity = weather_data.index[weather_data[\"humidity\"]>100]\n",
    "ind_humidity"
   ]
  },
  {
   "cell_type": "code",
   "execution_count": null,
   "metadata": {},
   "outputs": [],
   "source": [
    "# Make a new DataFrame equal to the city data to drop all humidity outliers by index.\n",
    "# Passing \"inplace=False\" will make a copy of the city_data DataFrame, which we call \"clean_city_data\".\n",
    "                            \n",
    "# No observations with Humidity over 100"
   ]
  },
  {
   "cell_type": "code",
   "execution_count": null,
   "metadata": {},
   "outputs": [],
   "source": [
    "# Extract relevant fields from the data frame\n",
    "#no need as there was nothing cleaned up"
   ]
  },
  {
   "cell_type": "markdown",
   "metadata": {},
   "source": [
    "## Plotting the Data\n",
    "* Use proper labeling of the plots using plot titles (including date of analysis) and axes labels.\n",
    "* Save the plotted figures as .pngs."
   ]
  },
  {
   "cell_type": "markdown",
   "metadata": {},
   "source": [
    "## Latitude vs. Temperature Plot"
   ]
  },
  {
   "cell_type": "code",
   "execution_count": 49,
   "metadata": {
    "scrolled": true
   },
   "outputs": [
    {
     "data": {
      "image/png": "[encoded data removed]",
      "text/plain": [
       "<Figure size 432x288 with 1 Axes>"
      ]
     },
     "metadata": {
      "needs_background": "light"
     },
     "output_type": "display_data"
    }
   ],
   "source": [
    "## Convert to floats and store Latitude and Tempurature as x and y values\n",
    "x_values = weather_data['lat']\n",
    "y_values = weather_data['temp']\n",
    "\n",
    "# Plot scatter plot\n",
    "plt.scatter(x_values,y_values)\n",
    "\n",
    "# Label plot\n",
    "plt.xlabel('Latitude')\n",
    "plt.ylabel('Max Tempurature (F)')\n",
    "plt.title('Tempurature vs Latitude')\n",
    "\n",
    "# Show plot\n",
    "plt.show()"
   ]
  },
  {
   "cell_type": "markdown",
   "metadata": {},
   "source": [
    "## Latitude vs. Humidity Plot"
   ]
  },
  {
   "cell_type": "code",
   "execution_count": 50,
   "metadata": {},
   "outputs": [
    {
     "data": {
      "image/png": "[encoded data removed]",
      "text/plain": [
       "<Figure size 432x288 with 1 Axes>"
      ]
     },
     "metadata": {
      "needs_background": "light"
     },
     "output_type": "display_data"
    }
   ],
   "source": [
    "## Convert to floats and store Latitude and Humidty as x and y values\n",
    "x_values = weather_data['lat']\n",
    "y_values = weather_data['humidity']\n",
    "\n",
    "# Plot scatter plot\n",
    "plt.scatter(x_values,y_values)\n",
    "\n",
    "# Label plot\n",
    "plt.xlabel('Latitude')\n",
    "plt.ylabel('Humidity (%)')\n",
    "plt.title('Humidity vs Latitude')\n",
    "\n",
    "# Show plot\n",
    "plt.show()"
   ]
  },
  {
   "cell_type": "markdown",
   "metadata": {},
   "source": [
    "## Latitude vs. Cloudiness Plot"
   ]
  },
  {
   "cell_type": "code",
   "execution_count": 51,
   "metadata": {},
   "outputs": [
    {
     "data": {
      "image/png": "[encoded data removed]",
      "text/plain": [
       "<Figure size 432x288 with 1 Axes>"
      ]
     },
     "metadata": {
      "needs_background": "light"
     },
     "output_type": "display_data"
    }
   ],
   "source": [
    "## Convert to floats and store Latitude and Cloudiness as x and y values\n",
    "x_values = weather_data['lat']\n",
    "y_values = weather_data['cloudiness']\n",
    "\n",
    "# Plot scatter plot\n",
    "plt.scatter(x_values,y_values)\n",
    "\n",
    "# Label plot\n",
    "plt.xlabel('Latitude')\n",
    "plt.ylabel('Cloudiness (%)')\n",
    "plt.title('Cloudiness vs Latitude')\n",
    "\n",
    "# Show plot\n",
    "plt.show()"
   ]
  },
  {
   "cell_type": "markdown",
   "metadata": {},
   "source": [
    "## Latitude vs. Wind Speed Plot"
   ]
  },
  {
   "cell_type": "code",
   "execution_count": 52,
   "metadata": {},
   "outputs": [
    {
     "data": {
      "image/png": "[encoded data removed]",
      "text/plain": [
       "<Figure size 432x288 with 1 Axes>"
      ]
     },
     "metadata": {
      "needs_background": "light"
     },
     "output_type": "display_data"
    }
   ],
   "source": [
    "## Convert to floats and store Latitude and wind as x and y values\n",
    "x_values = weather_data['lat']\n",
    "y_values = weather_data['wind']\n",
    "\n",
    "# Plot scatter plot\n",
    "plt.scatter(x_values,y_values)\n",
    "\n",
    "# Label plot\n",
    "plt.xlabel('Latitude')\n",
    "plt.ylabel('Wind (MPH)')\n",
    "plt.title('Wind Speed vs Latitude')\n",
    "\n",
    "# Show plot\n",
    "plt.show()"
   ]
  },
  {
   "cell_type": "markdown",
   "metadata": {},
   "source": [
    "## Linear Regression"
   ]
  },
  {
   "cell_type": "code",
   "execution_count": 29,
   "metadata": {},
   "outputs": [],
   "source": [
    "# OPTIONAL: Create a function to create Linear Regression plots"
   ]
  },
  {
   "cell_type": "code",
   "execution_count": 53,
   "metadata": {},
   "outputs": [],
   "source": [
    "# Create Northern and Southern Hemisphere DataFrames\n",
    "northern_hemisphere = weather_data.loc[weather_data[\"lat\"] >= 0]\n",
    "southern_hemisphere = weather_data.loc[weather_data[\"lat\"] < 0]"
   ]
  },
  {
   "cell_type": "markdown",
   "metadata": {},
   "source": [
    "####  Northern Hemisphere - Max Temp vs. Latitude Linear Regression"
   ]
  },
  {
   "cell_type": "code",
   "execution_count": 54,
   "metadata": {},
   "outputs": [
    {
     "name": "stdout",
     "output_type": "stream",
     "text": [
      "R squared: 0.45348453968398134\n"
     ]
    },
    {
     "data": {
      "image/png": "[encoded data removed]",
      "text/plain": [
       "<Figure size 432x288 with 1 Axes>"
      ]
     },
     "metadata": {
      "needs_background": "light"
     },
     "output_type": "display_data"
    }
   ],
   "source": [
    "## Convert to floats and store Latitude and Max Temp as x and y values\n",
    "x_values = northern_hemisphere['lat']\n",
    "y_values = northern_hemisphere['temp']\n",
    "\n",
    "# Run linear regression\n",
    "(slope, intercept, rvalue, pvalue, stderr) = linregress(x_values, y_values)\n",
    "regress_values = x_values * slope + intercept\n",
    "line_eq = \"y = \" + str(round(slope,2)) + \"x + \" + str(round(intercept,2))\n",
    "\n",
    "# Plot scatter plot\n",
    "plt.scatter(x_values,y_values)\n",
    "\n",
    "# Plot regression line\n",
    "plt.plot(x_values,regress_values,\"r-\")\n",
    "plt.annotate(line_eq,(0,40),fontsize=15,color=\"red\")\n",
    "\n",
    "# Label plot\n",
    "plt.xlabel('Latitude')\n",
    "plt.ylabel('Max Tempurature (F)')\n",
    "plt.title('Northern Hemisphere Tempurature vs Latitude')\n",
    "\n",
    "# Print r square value\n",
    "print(f\"R squared: {rvalue**2}\")\n",
    "\n",
    "# Show plot\n",
    "plt.show()\n"
   ]
  },
  {
   "cell_type": "markdown",
   "metadata": {},
   "source": [
    "####  Southern Hemisphere - Max Temp vs. Latitude Linear Regression"
   ]
  },
  {
   "cell_type": "code",
   "execution_count": 55,
   "metadata": {},
   "outputs": [
    {
     "name": "stdout",
     "output_type": "stream",
     "text": [
      "R squared: 0.6095648822072247\n"
     ]
    },
    {
     "data": {
      "image/png": "[encoded data removed]",
      "text/plain": [
       "<Figure size 432x288 with 1 Axes>"
      ]
     },
     "metadata": {
      "needs_background": "light"
     },
     "output_type": "display_data"
    }
   ],
   "source": [
    "## Convert to floats and store Latitude and Max Temp as x and y values\n",
    "x_values = southern_hemisphere['lat']\n",
    "y_values = southern_hemisphere['temp']\n",
    "\n",
    "# Run linear regression\n",
    "(slope, intercept, rvalue, pvalue, stderr) = linregress(x_values, y_values)\n",
    "regress_values = x_values * slope + intercept\n",
    "line_eq = \"y = \" + str(round(slope,2)) + \"x + \" + str(round(intercept,2))\n",
    "\n",
    "# Plot scatter plot\n",
    "plt.scatter(x_values,y_values)\n",
    "\n",
    "# Plot regression line\n",
    "plt.plot(x_values,regress_values,\"r-\")\n",
    "plt.annotate(line_eq,(-50,90),fontsize=15,color=\"red\")\n",
    "\n",
    "# Label plot\n",
    "plt.xlabel('Latitude')\n",
    "plt.ylabel('Max Tempurature (F)')\n",
    "plt.title('Southern Hemisphere Tempurature vs Latitude')\n",
    "\n",
    "# Print r square value\n",
    "print(f\"R squared: {rvalue**2}\")\n",
    "\n",
    "# Show plot\n",
    "plt.show()"
   ]
  },
  {
   "cell_type": "markdown",
   "metadata": {},
   "source": [
    "####  Northern Hemisphere - Humidity (%) vs. Latitude Linear Regression"
   ]
  },
  {
   "cell_type": "code",
   "execution_count": 56,
   "metadata": {},
   "outputs": [
    {
     "name": "stdout",
     "output_type": "stream",
     "text": [
      "R squared: 0.0013518928086279978\n"
     ]
    },
    {
     "data": {
      "image/png": "[encoded data removed]",
      "text/plain": [
       "<Figure size 432x288 with 1 Axes>"
      ]
     },
     "metadata": {
      "needs_background": "light"
     },
     "output_type": "display_data"
    }
   ],
   "source": [
    "## Convert to floats and store Latitude and Humidity as x and y values\n",
    "x_values = northern_hemisphere['lat']\n",
    "y_values = northern_hemisphere['humidity']\n",
    "\n",
    "# Run linear regression\n",
    "(slope, intercept, rvalue, pvalue, stderr) = linregress(x_values, y_values)\n",
    "regress_values = x_values * slope + intercept\n",
    "line_eq = \"y = \" + str(round(slope,2)) + \"x + \" + str(round(intercept,2))\n",
    "\n",
    "# Plot scatter plot\n",
    "plt.scatter(x_values,y_values)\n",
    "\n",
    "# Plot regression line\n",
    "plt.plot(x_values,regress_values,\"r-\")\n",
    "plt.annotate(line_eq,(45,10),fontsize=15,color=\"red\")\n",
    "\n",
    "# Label plot\n",
    "plt.xlabel('Latitude')\n",
    "plt.ylabel('Humidity (%)')\n",
    "plt.title('Northern Hemisphere Humidity vs Latitude')\n",
    "\n",
    "# Print r square value\n",
    "print(f\"R squared: {rvalue**2}\")\n",
    "\n",
    "# Show plot\n",
    "plt.show()"
   ]
  },
  {
   "cell_type": "markdown",
   "metadata": {},
   "source": [
    "####  Southern Hemisphere - Humidity (%) vs. Latitude Linear Regression"
   ]
  },
  {
   "cell_type": "code",
   "execution_count": 57,
   "metadata": {},
   "outputs": [
    {
     "name": "stdout",
     "output_type": "stream",
     "text": [
      "R squared: 0.01802046106351175\n"
     ]
    },
    {
     "data": {
      "image/png": "[encoded data removed]",
      "text/plain": [
       "<Figure size 432x288 with 1 Axes>"
      ]
     },
     "metadata": {
      "needs_background": "light"
     },
     "output_type": "display_data"
    }
   ],
   "source": [
    "## Convert to floats and store Latitude and Humidity as x and y values\n",
    "x_values = southern_hemisphere['lat']\n",
    "y_values = southern_hemisphere['humidity']\n",
    "\n",
    "# Run linear regression\n",
    "(slope, intercept, rvalue, pvalue, stderr) = linregress(x_values, y_values)\n",
    "regress_values = x_values * slope + intercept\n",
    "line_eq = \"y = \" + str(round(slope,2)) + \"x + \" + str(round(intercept,2))\n",
    "\n",
    "# Plot scatter plot\n",
    "plt.scatter(x_values,y_values)\n",
    "\n",
    "# Plot regression line\n",
    "plt.plot(x_values,regress_values,\"r-\")\n",
    "plt.annotate(line_eq,(-55,20),fontsize=15,color=\"red\")\n",
    "\n",
    "# Label plot\n",
    "plt.xlabel('Latitude')\n",
    "plt.ylabel('Humidity (%)')\n",
    "plt.title('Southern Hemisphere Humidity vs Latitude')\n",
    "\n",
    "# Print r square value\n",
    "print(f\"R squared: {rvalue**2}\")\n",
    "\n",
    "# Show plot\n",
    "plt.show()"
   ]
  },
  {
   "cell_type": "markdown",
   "metadata": {},
   "source": [
    "####  Northern Hemisphere - Cloudiness (%) vs. Latitude Linear Regression"
   ]
  },
  {
   "cell_type": "code",
   "execution_count": 58,
   "metadata": {},
   "outputs": [
    {
     "name": "stdout",
     "output_type": "stream",
     "text": [
      "R squared: 2.3015641999082077e-06\n"
     ]
    },
    {
     "data": {
      "image/png": "[encoded data removed]",
      "text/plain": [
       "<Figure size 432x288 with 1 Axes>"
      ]
     },
     "metadata": {
      "needs_background": "light"
     },
     "output_type": "display_data"
    }
   ],
   "source": [
    "## Convert to floats and store Latitude and Cloudiness as x and y values\n",
    "x_values = northern_hemisphere['lat']\n",
    "y_values = northern_hemisphere['cloudiness']\n",
    "\n",
    "# Run linear regression\n",
    "(slope, intercept, rvalue, pvalue, stderr) = linregress(x_values, y_values)\n",
    "regress_values = x_values * slope + intercept\n",
    "line_eq = \"y = \" + str(round(slope,2)) + \"x + \" + str(round(intercept,2))\n",
    "\n",
    "# Plot scatter plot\n",
    "plt.scatter(x_values,y_values)\n",
    "\n",
    "# Plot regression line\n",
    "plt.plot(x_values,regress_values,\"r-\")\n",
    "plt.annotate(line_eq,(45,10),fontsize=15,color=\"red\")\n",
    "\n",
    "# Label plot\n",
    "plt.xlabel('Latitude')\n",
    "plt.ylabel('Cloudiness (%)')\n",
    "plt.title('Northern Hemisphere Cloudiness vs Latitude')\n",
    "\n",
    "# Print r square value\n",
    "print(f\"R squared: {rvalue**2}\")\n",
    "\n",
    "# Show plot\n",
    "plt.show()"
   ]
  },
  {
   "cell_type": "markdown",
   "metadata": {},
   "source": [
    "####  Southern Hemisphere - Cloudiness (%) vs. Latitude Linear Regression"
   ]
  },
  {
   "cell_type": "code",
   "execution_count": 59,
   "metadata": {},
   "outputs": [
    {
     "name": "stdout",
     "output_type": "stream",
     "text": [
      "R squared: 0.001695200244132761\n"
     ]
    },
    {
     "data": {
      "image/png": "[encoded data removed]",
      "text/plain": [
       "<Figure size 432x288 with 1 Axes>"
      ]
     },
     "metadata": {
      "needs_background": "light"
     },
     "output_type": "display_data"
    }
   ],
   "source": [
    "## Convert to floats and store Latitude and Cloudiness as x and y values\n",
    "x_values = southern_hemisphere['lat']\n",
    "y_values = southern_hemisphere['cloudiness']\n",
    "\n",
    "# Run linear regression\n",
    "(slope, intercept, rvalue, pvalue, stderr) = linregress(x_values, y_values)\n",
    "regress_values = x_values * slope + intercept\n",
    "line_eq = \"y = \" + str(round(slope,2)) + \"x + \" + str(round(intercept,2))\n",
    "\n",
    "# Plot scatter plot\n",
    "plt.scatter(x_values,y_values)\n",
    "\n",
    "# Plot regression line\n",
    "plt.plot(x_values,regress_values,\"r-\")\n",
    "plt.annotate(line_eq,(-55,60),fontsize=15,color=\"red\")\n",
    "\n",
    "# Label plot\n",
    "plt.xlabel('Latitude')\n",
    "plt.ylabel('Cloudiness (%)')\n",
    "plt.title('Southern Hemisphere Cloudiness vs Latitude')\n",
    "\n",
    "# Print r square value\n",
    "print(f\"R squared: {rvalue**2}\")\n",
    "\n",
    "# Show plot\n",
    "plt.show()"
   ]
  },
  {
   "cell_type": "markdown",
   "metadata": {},
   "source": [
    "####  Northern Hemisphere - Wind Speed (mph) vs. Latitude Linear Regression"
   ]
  },
  {
   "cell_type": "code",
   "execution_count": 60,
   "metadata": {},
   "outputs": [
    {
     "name": "stdout",
     "output_type": "stream",
     "text": [
      "R squared: 0.00013550221884712065\n"
     ]
    },
    {
     "data": {
      "image/png": "[encoded data removed]",
      "text/plain": [
       "<Figure size 432x288 with 1 Axes>"
      ]
     },
     "metadata": {
      "needs_background": "light"
     },
     "output_type": "display_data"
    }
   ],
   "source": [
    "## Convert to floats and store Latitude and Wind as x and y values\n",
    "x_values = northern_hemisphere['lat']\n",
    "y_values = northern_hemisphere['wind']\n",
    "\n",
    "# Run linear regression\n",
    "(slope, intercept, rvalue, pvalue, stderr) = linregress(x_values, y_values)\n",
    "regress_values = x_values * slope + intercept\n",
    "line_eq = \"y = \" + str(round(slope,2)) + \"x + \" + str(round(intercept,2))\n",
    "\n",
    "# Plot scatter plot\n",
    "plt.scatter(x_values,y_values)\n",
    "\n",
    "# Plot regression line\n",
    "plt.plot(x_values,regress_values,\"r-\")\n",
    "plt.annotate(line_eq,(45,26),fontsize=15,color=\"red\")\n",
    "\n",
    "# Label plot\n",
    "plt.xlabel('Latitude')\n",
    "plt.ylabel('Wind (MPH)')\n",
    "plt.title('Northern Hemisphere Wind Speed vs Latitude')\n",
    "\n",
    "# Print r square value\n",
    "print(f\"R squared: {rvalue**2}\")\n",
    "\n",
    "# Show plot\n",
    "plt.show()"
   ]
  },
  {
   "cell_type": "markdown",
   "metadata": {},
   "source": [
    "####  Southern Hemisphere - Wind Speed (mph) vs. Latitude Linear Regression"
   ]
  },
  {
   "cell_type": "code",
   "execution_count": 61,
   "metadata": {},
   "outputs": [
    {
     "name": "stdout",
     "output_type": "stream",
     "text": [
      "R squared: 0.0032401489561075213\n"
     ]
    },
    {
     "data": {
      "image/png": "[encoded data removed]",
      "text/plain": [
       "<Figure size 432x288 with 1 Axes>"
      ]
     },
     "metadata": {
      "needs_background": "light"
     },
     "output_type": "display_data"
    }
   ],
   "source": [
    "## Convert to floats and store Latitude and Wind as x and y values\n",
    "x_values = southern_hemisphere['lat']\n",
    "y_values = southern_hemisphere['wind']\n",
    "\n",
    "# Run linear regression\n",
    "(slope, intercept, rvalue, pvalue, stderr) = linregress(x_values, y_values)\n",
    "regress_values = x_values * slope + intercept\n",
    "line_eq = \"y = \" + str(round(slope,2)) + \"x + \" + str(round(intercept,2))\n",
    "\n",
    "# Plot scatter plot\n",
    "plt.scatter(x_values,y_values)\n",
    "\n",
    "# Plot regression line\n",
    "plt.plot(x_values,regress_values,\"r-\")\n",
    "plt.annotate(line_eq,(-55,22),fontsize=15,color=\"red\")\n",
    "\n",
    "# Label plot\n",
    "plt.xlabel('Latitude')\n",
    "plt.ylabel('Wind (MPH)')\n",
    "plt.title('Southern Hemisphere Wind Speed vs Latitude')\n",
    "\n",
    "# Print r square value\n",
    "print(f\"R squared: {rvalue**2}\")\n",
    "\n",
    "# Show plot\n",
    "plt.show()"
   ]
  },
  {
   "cell_type": "markdown",
   "metadata": {},
   "source": [
    "3 Observations:\n",
    "1. It appears that Wind Speed and Cloudiness are not really affected by latitude (how far away from the equator they are. There is no real strong correlation and the regression lines are pretty flat.\n",
    "\n",
    "2. As expected the Max Temp for the Northern Hemisphere has a negative slope and there is a pretty good correlation between the latitude and the Max Temp. The same can be said for the Southern Hemisphere except it is a positive slope.\n",
    "\n",
    "3. When we plotted them all together at the start you could see a peak for the Max Temp that conveyed that on one side of that peak was the southern hemisphere and the other side was the northern hemisphere. You could start to see the relationship at that point."
   ]
  }
 ],
 "metadata": {
  "anaconda-cloud": {},
  "kernel_info": {
   "name": "python3"
  },
  "kernelspec": {
   "display_name": "Python 3",
   "language": "python",
   "name": "python3"
  },
  "language_info": {
   "codemirror_mode": {
    "name": "ipython",
    "version": 3
   },
   "file_extension": ".py",
   "mimetype": "text/x-python",
   "name": "python",
   "nbconvert_exporter": "python",
   "pygments_lexer": "ipython3",
   "version": "3.6.10"
  },
  "latex_envs": {
   "LaTeX_envs_menu_present": true,
   "autoclose": false,
   "autocomplete": true,
   "bibliofile": "biblio.bib",
   "cite_by": "apalike",
   "current_citInitial": 1,
   "eqLabelWithNumbers": true,
   "eqNumInitial": 1,
   "hotkeys": {
    "equation": "Ctrl-E",
    "itemize": "Ctrl-I"
   },
   "labels_anchors": false,
   "latex_user_defs": false,
   "report_style_numbering": false,
   "user_envs_cfg": false
  },
  "nteract": {
   "version": "0.12.3"
  }
 },
 "nbformat": 4,
 "nbformat_minor": 2
}
