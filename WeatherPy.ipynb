{
 "cells": [
  {
   "cell_type": "markdown",
   "metadata": {},
   "source": [
    "# WeatherPy\n",
    "----\n",
    "\n",
    "#### Note\n",
    "* Instructions have been included for each segment. You do not have to follow them exactly, but they are included to help you think through the steps."
   ]
  },
  {
   "cell_type": "code",
   "execution_count": 1,
   "metadata": {
    "scrolled": true
   },
   "outputs": [],
   "source": [
    "# Dependencies and Setup\n",
    "import matplotlib.pyplot as plt\n",
    "import pandas as pd\n",
    "import numpy as np\n",
    "import requests\n",
    "import time\n",
    "from scipy.stats import linregress\n",
    "\n",
    "# Import API key\n",
    "from config import weather_api_key\n",
    "\n",
    "# Incorporated citipy to determine city based on latitude and longitude\n",
    "from citipy import citipy\n",
    "\n",
    "# Output File (CSV)\n",
    "output_data_file = \"output_data/cities.csv\"\n",
    "\n",
    "# Range of latitudes and longitudes\n",
    "lat_range = (-90, 90)\n",
    "lng_range = (-180, 180)"
   ]
  },
  {
   "cell_type": "markdown",
   "metadata": {},
   "source": [
    "## Generate Cities List"
   ]
  },
  {
   "cell_type": "code",
   "execution_count": 2,
   "metadata": {},
   "outputs": [
    {
     "data": {
      "text/plain": [
       "619"
      ]
     },
     "execution_count": 2,
     "metadata": {},
     "output_type": "execute_result"
    }
   ],
   "source": [
    "# List for holding lat_lngs and cities\n",
    "lat_lngs = []\n",
    "cities = []\n",
    "\n",
    "# Create a set of random lat and lng combinations\n",
    "lats = np.random.uniform(lat_range[0], lat_range[1], size=1500)\n",
    "lngs = np.random.uniform(lng_range[0], lng_range[1], size=1500)\n",
    "lat_lngs = zip(lats, lngs)\n",
    "\n",
    "# Identify nearest city for each lat, lng combination\n",
    "for lat_lng in lat_lngs:\n",
    "    city = citipy.nearest_city(lat_lng[0], lat_lng[1]).city_name\n",
    "    \n",
    "    # If the city is unique, then add it to a our cities list\n",
    "    if city not in cities:\n",
    "        cities.append(city)\n",
    "\n",
    "# Print the city count to confirm sufficient count\n",
    "len(cities)"
   ]
  },
  {
   "cell_type": "markdown",
   "metadata": {},
   "source": [
    "### Perform API Calls\n",
    "* Perform a weather check on each city using a series of successive API calls.\n",
    "* Include a print log of each city as it'sbeing processed (with the city number and city name).\n"
   ]
  },
  {
   "cell_type": "code",
   "execution_count": 4,
   "metadata": {},
   "outputs": [],
   "source": [
    "# Save config information.\n",
    "url = \"http://api.openweathermap.org/data/2.5/weather?\"\n",
    "units = \"imperial\"\n",
    "\n",
    "# Build partial query URL\n",
    "query_url = f\"{url}appid={weather_api_key}&units={units}&q=\""
   ]
  },
  {
   "cell_type": "code",
   "execution_count": 6,
   "metadata": {},
   "outputs": [
    {
     "name": "stdout",
     "output_type": "stream",
     "text": [
      "Processing record: harper.\n",
      "Processing record: labuan.\n",
      "Processing record: vaini.\n",
      "Processing record: borama.\n",
      "City: borama was mot found. Skipping...\n",
      "Processing record: heidelberg.\n",
      "Processing record: sur.\n",
      "Processing record: qostanay.\n",
      "Processing record: port alfred.\n",
      "Processing record: saint-malo.\n",
      "Processing record: amderma.\n",
      "City: amderma was mot found. Skipping...\n",
      "Processing record: castro.\n",
      "Processing record: illoqqortoormiut.\n",
      "City: illoqqortoormiut was mot found. Skipping...\n",
      "Processing record: ushuaia.\n",
      "Processing record: natitingou.\n",
      "Processing record: puerto ayora.\n",
      "Processing record: zhangye.\n",
      "Processing record: bahia honda.\n",
      "Processing record: fort nelson.\n",
      "Processing record: katsuura.\n",
      "Processing record: dombarovskiy.\n",
      "Processing record: ponta delgada.\n",
      "Processing record: rock sound.\n",
      "Processing record: qaanaaq.\n",
      "Processing record: hervey bay.\n",
      "Processing record: mataura.\n",
      "Processing record: albany.\n",
      "Processing record: tiksi.\n",
      "Processing record: tasiilaq.\n",
      "Processing record: hvide sande.\n",
      "Processing record: atuona.\n",
      "Processing record: hornepayne.\n",
      "Processing record: la salle.\n",
      "Processing record: taolanaro.\n",
      "City: taolanaro was mot found. Skipping...\n",
      "Processing record: green river.\n",
      "Processing record: souillac.\n",
      "Processing record: punta arenas.\n",
      "Processing record: vanavara.\n",
      "Processing record: rikitea.\n",
      "Processing record: beringovskiy.\n",
      "Processing record: pevek.\n",
      "Processing record: holme.\n",
      "Processing record: gunupur.\n",
      "Processing record: new norfolk.\n",
      "Processing record: bluff.\n",
      "Processing record: constantine.\n",
      "Processing record: upernavik.\n",
      "Processing record: buta.\n",
      "Processing record: komsomolskiy.\n",
      "Processing record: mwene-ditu.\n",
      "Processing record: seoul.\n",
      "Processing record: kodiak.\n",
      "Processing record: sampit.\n",
      "Processing record: guanare.\n",
      "Processing record: iqaluit.\n",
      "Processing record: gamba.\n",
      "Processing record: vostok.\n",
      "Processing record: vardo.\n",
      "Processing record: jamestown.\n",
      "Processing record: pionerskiy.\n",
      "Processing record: cape town.\n",
      "Processing record: soyo.\n",
      "Processing record: yaan.\n",
      "Processing record: tuktoyaktuk.\n",
      "Processing record: mount gambier.\n",
      "Processing record: bambous virieux.\n",
      "Processing record: hambantota.\n",
      "Processing record: kapoeta.\n",
      "Processing record: angoche.\n",
      "Processing record: haines junction.\n",
      "Processing record: rawah.\n",
      "Processing record: pacific grove.\n",
      "Processing record: matara.\n",
      "Processing record: dunedin.\n",
      "Processing record: matay.\n",
      "Processing record: bredasdorp.\n",
      "Processing record: kloulklubed.\n",
      "Processing record: bandarbeyla.\n",
      "Processing record: chokurdakh.\n",
      "Processing record: thompson.\n",
      "Processing record: nalut.\n",
      "Processing record: bairiki.\n",
      "Processing record: greeneville.\n",
      "Processing record: ostrovnoy.\n",
      "Processing record: cayenne.\n",
      "Processing record: sable-sur-sarthe.\n",
      "Processing record: butaritari.\n",
      "Processing record: hobart.\n",
      "Processing record: saleaula.\n",
      "City: saleaula was mot found. Skipping...\n",
      "Processing record: ijaki.\n",
      "City: ijaki was mot found. Skipping...\n",
      "Processing record: zhanaozen.\n",
      "Processing record: santo domingo.\n",
      "Processing record: edd.\n",
      "Processing record: victoria.\n",
      "Processing record: port augusta.\n",
      "Processing record: phalia.\n",
      "Processing record: khatanga.\n",
      "Processing record: saint-philippe.\n",
      "Processing record: leningradskiy.\n",
      "Processing record: constitucion.\n",
      "Processing record: charlestown.\n",
      "Processing record: barrow.\n",
      "Processing record: norman wells.\n",
      "Processing record: broome.\n",
      "Processing record: zonguldak.\n",
      "Processing record: sarahan.\n",
      "Processing record: nome.\n",
      "Processing record: troy.\n",
      "Processing record: namanga.\n",
      "Processing record: carnarvon.\n",
      "Processing record: lac-megantic.\n",
      "Processing record: touros.\n",
      "Processing record: aklavik.\n",
      "Processing record: tabou.\n",
      "Processing record: buala.\n",
      "Processing record: ribeira grande.\n",
      "Processing record: busselton.\n",
      "Processing record: abu samrah.\n",
      "Processing record: altagracia de orituco.\n",
      "Processing record: bethel.\n",
      "Processing record: cabo san lucas.\n",
      "Processing record: saskylakh.\n",
      "Processing record: manono.\n",
      "Processing record: lyuban.\n",
      "Processing record: dhidhdhoo.\n",
      "Processing record: poptun.\n",
      "Processing record: sao filipe.\n",
      "Processing record: ust-nera.\n",
      "Processing record: cidreira.\n",
      "Processing record: port hardy.\n",
      "Processing record: williams lake.\n",
      "Processing record: paradwip.\n",
      "City: paradwip was mot found. Skipping...\n",
      "Processing record: geraldton.\n",
      "Processing record: arraial do cabo.\n",
      "Processing record: hermanus.\n",
      "Processing record: xuddur.\n",
      "Processing record: praia da vitoria.\n",
      "Processing record: tam ky.\n",
      "Processing record: coquimbo.\n",
      "Processing record: zheleznodorozhnyy.\n",
      "Processing record: kapaa.\n",
      "Processing record: chuy.\n",
      "Processing record: lagoa.\n",
      "Processing record: port elizabeth.\n",
      "Processing record: general roca.\n",
      "Processing record: mosquera.\n",
      "Processing record: khanpur.\n",
      "Processing record: fort saint john.\n",
      "City: fort saint john was mot found. Skipping...\n",
      "Processing record: bhaderwah.\n",
      "Processing record: sorvag.\n",
      "City: sorvag was mot found. Skipping...\n",
      "Processing record: papetoai.\n",
      "Processing record: georgetown.\n",
      "Processing record: grand river south east.\n",
      "City: grand river south east was mot found. Skipping...\n",
      "Processing record: meulaboh.\n",
      "Processing record: klaksvik.\n",
      "Processing record: husavik.\n",
      "Processing record: qurayyat.\n",
      "Processing record: petropavlovsk-kamchatskiy.\n",
      "Processing record: alofi.\n",
      "Processing record: attawapiskat.\n",
      "City: attawapiskat was mot found. Skipping...\n",
      "Processing record: haicheng.\n",
      "Processing record: padang.\n",
      "Processing record: yellowknife.\n",
      "Processing record: mundo nuevo.\n",
      "Processing record: asau.\n",
      "Processing record: conceicao do araguaia.\n",
      "Processing record: kruisfontein.\n",
      "Processing record: westport.\n",
      "Processing record: alice springs.\n",
      "Processing record: viedma.\n",
      "Processing record: urumqi.\n",
      "Processing record: oksfjord.\n",
      "Processing record: hithadhoo.\n",
      "Processing record: sentyabrskiy.\n",
      "City: sentyabrskiy was mot found. Skipping...\n",
      "Processing record: sawtell.\n",
      "Processing record: ixtapa.\n",
      "Processing record: srednekolymsk.\n",
      "Processing record: esperance.\n",
      "Processing record: ziro.\n",
      "Processing record: anshan.\n",
      "Processing record: sirsa.\n",
      "Processing record: adrar.\n",
      "Processing record: olinda.\n",
      "Processing record: mweka.\n",
      "Processing record: alice town.\n",
      "Processing record: belushya guba.\n",
      "City: belushya guba was mot found. Skipping...\n",
      "Processing record: mys shmidta.\n",
      "City: mys shmidta was mot found. Skipping...\n",
      "Processing record: malakal.\n",
      "Processing record: port hedland.\n",
      "Processing record: berlevag.\n",
      "Processing record: nikolskoye.\n",
      "Processing record: moindou.\n",
      "Processing record: laguna.\n",
      "Processing record: solsvik.\n",
      "City: solsvik was mot found. Skipping...\n",
      "Processing record: san borja.\n",
      "Processing record: nara.\n",
      "Processing record: pangnirtung.\n",
      "Processing record: labuhan.\n",
      "Processing record: flin flon.\n",
      "Processing record: kavaratti.\n",
      "Processing record: budogoshch.\n",
      "Processing record: alpena.\n",
      "Processing record: ponca city.\n",
      "Processing record: chapais.\n",
      "Processing record: canutama.\n",
      "Processing record: muravlenko.\n",
      "Processing record: the valley.\n",
      "Processing record: monywa.\n",
      "Processing record: patrasaer.\n",
      "Processing record: varkkallai.\n",
      "Processing record: mitsamiouli.\n",
      "Processing record: si sa ket.\n",
      "Processing record: prenzlau.\n",
      "Processing record: neiafu.\n",
      "Processing record: enterprise.\n",
      "Processing record: udachnyy.\n",
      "Processing record: puerto baquerizo moreno.\n",
      "Processing record: moree.\n",
      "Processing record: grindavik.\n",
      "Processing record: abonnema.\n",
      "Processing record: kiunga.\n",
      "Processing record: daru.\n",
      "Processing record: hilo.\n",
      "Processing record: tignere.\n",
      "Processing record: fort-shevchenko.\n",
      "Processing record: itaituba.\n",
      "Processing record: lebu.\n",
      "Processing record: kimbe.\n",
      "Processing record: pemba.\n",
      "Processing record: urengoy.\n",
      "Processing record: boueni.\n",
      "Processing record: oga.\n",
      "Processing record: korla.\n",
      "Processing record: kiruna.\n",
      "Processing record: nouakchott.\n",
      "Processing record: susani.\n",
      "Processing record: henties bay.\n",
      "Processing record: kongoussi.\n",
      "Processing record: guiglo.\n",
      "Processing record: barentsburg.\n",
      "City: barentsburg was mot found. Skipping...\n",
      "Processing record: nouadhibou.\n",
      "Processing record: avarua.\n",
      "Processing record: college.\n",
      "Processing record: los llanos de aridane.\n",
      "Processing record: erenhot.\n",
      "Processing record: prince rupert.\n",
      "Processing record: moratuwa.\n",
      "Processing record: hofn.\n",
      "Processing record: avera.\n",
      "Processing record: ahipara.\n",
      "Processing record: zaria.\n",
      "Processing record: sao joao da barra.\n",
      "Processing record: keti bandar.\n",
      "Processing record: lompoc.\n"
     ]
    },
    {
     "name": "stdout",
     "output_type": "stream",
     "text": [
      "Processing record: nanortalik.\n",
      "Processing record: ucluelet.\n",
      "Processing record: leshukonskoye.\n",
      "Processing record: vao.\n",
      "Processing record: ilulissat.\n",
      "Processing record: mahebourg.\n",
      "Processing record: faanui.\n",
      "Processing record: dikson.\n",
      "Processing record: jackson.\n",
      "Processing record: tsihombe.\n",
      "City: tsihombe was mot found. Skipping...\n",
      "Processing record: rincon.\n",
      "Processing record: saint-pierre.\n",
      "Processing record: lesnoye.\n",
      "Processing record: okhotsk.\n",
      "Processing record: susanville.\n",
      "Processing record: ampanihy.\n",
      "Processing record: mokhsogollokh.\n",
      "Processing record: sume.\n",
      "Processing record: simoes.\n",
      "Processing record: zhigansk.\n",
      "Processing record: sulangan.\n",
      "Processing record: samusu.\n",
      "City: samusu was mot found. Skipping...\n",
      "Processing record: clyde river.\n",
      "Processing record: port macquarie.\n",
      "Processing record: high level.\n",
      "Processing record: cockburn town.\n",
      "Processing record: longyan.\n",
      "Processing record: jega.\n",
      "Processing record: ancud.\n",
      "Processing record: menuma.\n",
      "Processing record: awjilah.\n",
      "Processing record: severo-kurilsk.\n",
      "Processing record: hualmay.\n",
      "Processing record: sitka.\n",
      "Processing record: marv dasht.\n",
      "City: marv dasht was mot found. Skipping...\n",
      "Processing record: svetlogorsk.\n",
      "Processing record: sao gabriel da cachoeira.\n",
      "Processing record: hakodate.\n",
      "Processing record: nelson bay.\n",
      "Processing record: progreso.\n",
      "Processing record: evensk.\n",
      "Processing record: huarmey.\n",
      "Processing record: udaipur.\n",
      "Processing record: sioux lookout.\n",
      "Processing record: otjimbingwe.\n",
      "Processing record: salalah.\n",
      "Processing record: fortuna.\n",
      "Processing record: fatezh.\n",
      "Processing record: teguise.\n",
      "Processing record: codrington.\n",
      "Processing record: longyearbyen.\n",
      "Processing record: ialibu.\n",
      "Processing record: maceio.\n",
      "Processing record: bismarck.\n",
      "Processing record: tokur.\n",
      "Processing record: peniche.\n",
      "Processing record: torbay.\n",
      "Processing record: ushibuka.\n",
      "Processing record: kodino.\n",
      "Processing record: berikulskiy.\n",
      "City: berikulskiy was mot found. Skipping...\n",
      "Processing record: igis.\n",
      "Processing record: cairns.\n",
      "Processing record: beatrice.\n",
      "Processing record: olyka.\n",
      "Processing record: san ramon.\n",
      "Processing record: cubuk.\n",
      "Processing record: chicama.\n",
      "Processing record: yekepa.\n",
      "Processing record: provideniya.\n",
      "Processing record: missoula.\n",
      "Processing record: yar-sale.\n",
      "Processing record: mehamn.\n",
      "Processing record: dingle.\n",
      "Processing record: kaitangata.\n",
      "Processing record: east london.\n",
      "Processing record: la ronge.\n",
      "Processing record: atraulia.\n",
      "Processing record: myre.\n",
      "Processing record: dagda.\n",
      "Processing record: halalo.\n",
      "City: halalo was mot found. Skipping...\n",
      "Processing record: tigil.\n",
      "Processing record: pochutla.\n",
      "Processing record: nizhneyansk.\n",
      "City: nizhneyansk was mot found. Skipping...\n",
      "Processing record: ponta do sol.\n",
      "Processing record: batagay.\n",
      "Processing record: lorengau.\n",
      "Processing record: bac lieu.\n",
      "Processing record: lisakovsk.\n",
      "Processing record: reserva.\n",
      "Processing record: yatou.\n",
      "Processing record: tres arroyos.\n",
      "Processing record: rafai.\n",
      "Processing record: deputatskiy.\n",
      "Processing record: manado.\n",
      "Processing record: airai.\n",
      "Processing record: palabuhanratu.\n",
      "City: palabuhanratu was mot found. Skipping...\n",
      "Processing record: maumelle.\n",
      "Processing record: sept-iles.\n",
      "Processing record: bhalki.\n",
      "Processing record: murgab.\n",
      "Processing record: fort wellington.\n",
      "Processing record: marcona.\n",
      "City: marcona was mot found. Skipping...\n",
      "Processing record: storforshei.\n",
      "Processing record: waingapu.\n",
      "Processing record: bubaque.\n",
      "Processing record: vaitupu.\n",
      "City: vaitupu was mot found. Skipping...\n",
      "Processing record: ust-maya.\n",
      "Processing record: pastavy.\n",
      "Processing record: kulhudhuffushi.\n",
      "Processing record: bud.\n",
      "Processing record: drezdenko.\n",
      "Processing record: kokopo.\n",
      "Processing record: kirakira.\n",
      "Processing record: igarka.\n",
      "Processing record: pelym.\n",
      "Processing record: ornes.\n",
      "Processing record: durban.\n",
      "Processing record: narsaq.\n",
      "Processing record: baie-comeau.\n",
      "Processing record: linjiang.\n",
      "Processing record: rosetown.\n",
      "Processing record: isiro.\n",
      "Processing record: faya.\n",
      "Processing record: semnan.\n",
      "Processing record: nyurba.\n",
      "Processing record: khonuu.\n",
      "City: khonuu was mot found. Skipping...\n",
      "Processing record: cordoba.\n",
      "Processing record: karaul.\n",
      "City: karaul was mot found. Skipping...\n",
      "Processing record: san patricio.\n",
      "Processing record: namibe.\n",
      "Processing record: te anau.\n",
      "Processing record: valparaiso.\n",
      "Processing record: cap malheureux.\n",
      "Processing record: miquelon.\n",
      "Processing record: cape elizabeth.\n",
      "City: cape elizabeth was mot found. Skipping...\n",
      "Processing record: san vicente.\n",
      "Processing record: lumeje.\n",
      "Processing record: aflu.\n",
      "City: aflu was mot found. Skipping...\n",
      "Processing record: kahului.\n",
      "Processing record: mar del plata.\n",
      "Processing record: hobyo.\n",
      "Processing record: lakatoro.\n",
      "Processing record: riyadh.\n",
      "Processing record: unai.\n",
      "Processing record: salinopolis.\n",
      "Processing record: hirara.\n",
      "Processing record: flagstaff.\n",
      "Processing record: diego de almagro.\n",
      "Processing record: half moon bay.\n",
      "Processing record: pinawa.\n",
      "Processing record: tromso.\n",
      "Processing record: junin.\n",
      "Processing record: navapur.\n",
      "City: navapur was mot found. Skipping...\n",
      "Processing record: maddur.\n",
      "Processing record: kaiu.\n",
      "Processing record: asosa.\n",
      "Processing record: caravelas.\n",
      "Processing record: eyl.\n",
      "Processing record: khandyga.\n",
      "Processing record: kyra.\n",
      "Processing record: yerbogachen.\n",
      "Processing record: pangoa.\n",
      "Processing record: izyum.\n",
      "Processing record: sahuaripa.\n",
      "Processing record: russell.\n",
      "Processing record: shimanovsk.\n",
      "Processing record: villa vazquez.\n",
      "City: villa vazquez was mot found. Skipping...\n",
      "Processing record: lingao.\n",
      "Processing record: takoradi.\n",
      "Processing record: wanning.\n",
      "Processing record: gimli.\n",
      "Processing record: saint george.\n",
      "Processing record: mayo.\n",
      "Processing record: dzhebariki-khaya.\n",
      "Processing record: steamboat springs.\n",
      "Processing record: swan hill.\n",
      "Processing record: aden.\n",
      "Processing record: karaman.\n",
      "Processing record: hasaki.\n",
      "Processing record: toungoo.\n",
      "City: toungoo was mot found. Skipping...\n",
      "Processing record: mrakovo.\n",
      "Processing record: pisco.\n",
      "Processing record: coihaique.\n",
      "Processing record: toliary.\n",
      "City: toliary was mot found. Skipping...\n",
      "Processing record: poros.\n",
      "Processing record: ilhabela.\n",
      "Processing record: santa clara.\n",
      "Processing record: bengkulu.\n",
      "Processing record: grande prairie.\n",
      "Processing record: kashiwazaki.\n",
      "Processing record: eureka.\n",
      "Processing record: umzimvubu.\n",
      "City: umzimvubu was mot found. Skipping...\n",
      "Processing record: waddan.\n",
      "Processing record: orlik.\n",
      "Processing record: lenki.\n",
      "City: lenki was mot found. Skipping...\n",
      "Processing record: braslav.\n",
      "City: braslav was mot found. Skipping...\n",
      "Processing record: pampa.\n",
      "Processing record: mitu.\n",
      "Processing record: solotcha.\n",
      "Processing record: ajmer.\n",
      "Processing record: marrakesh.\n",
      "Processing record: longlac.\n",
      "City: longlac was mot found. Skipping...\n",
      "Processing record: olavarria.\n",
      "Processing record: flinders.\n",
      "Processing record: aksu.\n",
      "Processing record: moba.\n",
      "Processing record: tupiza.\n",
      "Processing record: umm durman.\n",
      "City: umm durman was mot found. Skipping...\n",
      "Processing record: port-cartier.\n",
      "Processing record: lolua.\n",
      "City: lolua was mot found. Skipping...\n",
      "Processing record: novochernorechenskiy.\n",
      "Processing record: bereda.\n",
      "Processing record: thanh hoa.\n",
      "Processing record: tazovskiy.\n",
      "Processing record: bourail.\n",
      "Processing record: sabang.\n",
      "Processing record: barbar.\n",
      "City: barbar was mot found. Skipping...\n",
      "Processing record: balabac.\n",
      "Processing record: myanaung.\n",
      "Processing record: vila velha.\n",
      "Processing record: camana.\n",
      "Processing record: manta.\n",
      "Processing record: batsfjord.\n",
      "Processing record: kodinsk.\n",
      "Processing record: koundara.\n",
      "Processing record: lavrentiya.\n",
      "Processing record: kenai.\n",
      "Processing record: champerico.\n",
      "Processing record: camopi.\n",
      "Processing record: haibowan.\n",
      "City: haibowan was mot found. Skipping...\n",
      "Processing record: tiznit.\n",
      "Processing record: concarneau.\n",
      "Processing record: beloha.\n",
      "Processing record: kysyl-syr.\n",
      "Processing record: pirgos.\n",
      "Processing record: yulara.\n",
      "Processing record: ambilobe.\n",
      "Processing record: begoro.\n",
      "Processing record: gejiu.\n",
      "Processing record: bilibino.\n",
      "Processing record: uvira.\n",
      "Processing record: kaifeng.\n",
      "Processing record: charters towers.\n",
      "Processing record: mecca.\n",
      "Processing record: tuatapere.\n",
      "Processing record: strezhevoy.\n",
      "Processing record: olafsvik.\n",
      "Processing record: margate.\n",
      "Processing record: taoudenni.\n"
     ]
    },
    {
     "name": "stdout",
     "output_type": "stream",
     "text": [
      "Processing record: itarema.\n",
      "Processing record: san cristobal.\n",
      "Processing record: bemidji.\n",
      "Processing record: marawi.\n",
      "Processing record: san quintin.\n",
      "Processing record: saint-ambroise.\n",
      "Processing record: bilma.\n",
      "Processing record: macamic.\n",
      "Processing record: vredendal.\n",
      "Processing record: nazas.\n",
      "Processing record: naze.\n",
      "Processing record: mbandaka.\n",
      "Processing record: medveditskiy.\n",
      "Processing record: north bend.\n",
      "Processing record: belaya gora.\n",
      "Processing record: bolshaya rechka.\n",
      "Processing record: amapa.\n",
      "Processing record: grand-lahou.\n",
      "Processing record: makubetsu.\n",
      "Processing record: the pas.\n",
      "Processing record: waipawa.\n",
      "Processing record: yabassi.\n",
      "Processing record: xushan.\n",
      "Processing record: olga.\n",
      "Processing record: sola.\n",
      "Processing record: luderitz.\n",
      "Processing record: varzea da palma.\n",
      "Processing record: palmer.\n",
      "Processing record: victoria point.\n",
      "Processing record: pozo colorado.\n",
      "Processing record: am timan.\n",
      "Processing record: oxapampa.\n",
      "Processing record: chichica.\n",
      "Processing record: luanda.\n",
      "Processing record: morden.\n",
      "Processing record: bacolod.\n",
      "Processing record: dauriya.\n",
      "Processing record: zhezkazgan.\n",
      "Processing record: gollere.\n",
      "City: gollere was mot found. Skipping...\n",
      "Processing record: turochak.\n",
      "Processing record: toora-khem.\n",
      "Processing record: puksoozero.\n",
      "Processing record: atar.\n",
      "Processing record: chara.\n",
      "Processing record: araouane.\n",
      "Processing record: bolungarvik.\n",
      "City: bolungarvik was mot found. Skipping...\n",
      "Processing record: erzurum.\n",
      "Processing record: vigrestad.\n",
      "Processing record: mountain home.\n",
      "Processing record: ariquemes.\n",
      "Processing record: kirgiz-miyaki.\n",
      "Processing record: havelock.\n",
      "Processing record: sakakah.\n",
      "Processing record: talnakh.\n",
      "Processing record: louisbourg.\n",
      "City: louisbourg was mot found. Skipping...\n",
      "Processing record: gulariya.\n",
      "Processing record: saint-francois.\n",
      "Processing record: belmonte.\n",
      "Processing record: sindou.\n",
      "Processing record: torredonjimeno.\n",
      "Processing record: noumea.\n",
      "Processing record: anadyr.\n",
      "Processing record: gualaquiza.\n",
      "Processing record: rolim de moura.\n",
      "City: rolim de moura was mot found. Skipping...\n",
      "Processing record: opuwo.\n",
      "Processing record: zasechnoye.\n",
      "Processing record: staryy nadym.\n",
      "Processing record: ratlam.\n",
      "Processing record: san rafael del sur.\n",
      "Processing record: portland.\n",
      "Processing record: porosozero.\n",
      "Processing record: gigmoto.\n",
      "Processing record: santa vitoria.\n",
      "Processing record: samarai.\n",
      "Processing record: pahrump.\n",
      "Processing record: nuuk.\n",
      "Processing record: areka.\n",
      "Processing record: richards bay.\n",
      "Processing record: manzil jamil.\n",
      "City: manzil jamil was mot found. Skipping...\n",
      "Processing record: tonj.\n",
      "Processing record: paamiut.\n",
      "Processing record: inderborskiy.\n",
      "City: inderborskiy was mot found. Skipping...\n",
      "Processing record: sorkjosen.\n",
      "Processing record: mareeba.\n",
      "Processing record: vestmannaeyjar.\n",
      "Processing record: milkovo.\n",
      "Processing record: krapina.\n",
      "Processing record: stranda.\n",
      "Processing record: lethem.\n",
      "Processing record: chase.\n",
      "Processing record: goderich.\n",
      "Processing record: borger.\n",
      "Processing record: idah.\n",
      "Processing record: benghazi.\n",
      "Processing record: jinji.\n",
      "Processing record: barawe.\n",
      "City: barawe was mot found. Skipping...\n",
      "Processing record: kavieng.\n",
      "Processing record: keetmanshoop.\n",
      "Processing record: oyama.\n",
      "Processing record: tsabong.\n",
      "Processing record: zhangjiakou.\n",
      "Processing record: guerrero negro.\n",
      "Processing record: otaru.\n",
      "Processing record: samalaeulu.\n",
      "City: samalaeulu was mot found. Skipping...\n",
      "Processing record: bolshaya murta.\n",
      "City: bolshaya murta was mot found. Skipping...\n",
      "Processing record: galle.\n",
      "Processing record: vila franca do campo.\n",
      "Processing record: marsh harbour.\n",
      "Processing record: wald.\n",
      "Processing record: les cayes.\n",
      "Processing record: hay river.\n",
      "Processing record: batagay-alyta.\n",
      "Processing record: inuvik.\n",
      "Processing record: erdenet.\n",
      "Processing record: batemans bay.\n",
      "Processing record: coulihaut.\n",
      "City: coulihaut was mot found. Skipping...\n",
      "Processing record: puerto escondido.\n"
     ]
    }
   ],
   "source": [
    "# cities2 = ['touros', 'saint anthony', 'san patricio']\n",
    "\n",
    "# set up lists to hold reponse info -- append to it in the loop below\n",
    "name = []\n",
    "lat = []\n",
    "temp = []\n",
    "wind = []\n",
    "humid = []\n",
    "clouds = []\n",
    "\n",
    "# Loop through the list of cities and perform a request for data on each\n",
    "for city in cities:\n",
    "    response = requests.get(query_url + city).json()\n",
    "    try:\n",
    "        print(f\"Processing record: {city}.\")\n",
    "        name.append(response['name'])\n",
    "        lat.append(response['coord']['lat'])\n",
    "        temp.append(response['main']['temp_max'])\n",
    "        humid.append(response['main']['humidity'])\n",
    "        wind.append(response['wind']['speed'])\n",
    "        clouds.append(response['clouds']['all'])\n",
    "    except:\n",
    "        # Append null values\n",
    "        print(f\"City: {city} was mot found. Skipping...\")\n",
    "#         print(\"City not found skipping\")\n",
    "        pass\n"
   ]
  },
  {
   "cell_type": "markdown",
   "metadata": {},
   "source": [
    "### Convert Raw Data to DataFrame\n",
    "* Export the city data into a .csv.\n",
    "* Display the DataFrame"
   ]
  },
  {
   "cell_type": "code",
   "execution_count": 7,
   "metadata": {},
   "outputs": [
    {
     "data": {
      "text/html": [
       "<div>\n",
       "<style scoped>\n",
       "    .dataframe tbody tr th:only-of-type {\n",
       "        vertical-align: middle;\n",
       "    }\n",
       "\n",
       "    .dataframe tbody tr th {\n",
       "        vertical-align: top;\n",
       "    }\n",
       "\n",
       "    .dataframe thead th {\n",
       "        text-align: right;\n",
       "    }\n",
       "</style>\n",
       "<table border=\"1\" class=\"dataframe\">\n",
       "  <thead>\n",
       "    <tr style=\"text-align: right;\">\n",
       "      <th></th>\n",
       "      <th>city</th>\n",
       "      <th>lat</th>\n",
       "      <th>temp</th>\n",
       "      <th>humidity</th>\n",
       "      <th>wind</th>\n",
       "      <th>cloudiness</th>\n",
       "    </tr>\n",
       "  </thead>\n",
       "  <tbody>\n",
       "    <tr>\n",
       "      <th>0</th>\n",
       "      <td>Harper</td>\n",
       "      <td>4.38</td>\n",
       "      <td>75.65</td>\n",
       "      <td>77</td>\n",
       "      <td>9.55</td>\n",
       "      <td>80</td>\n",
       "    </tr>\n",
       "    <tr>\n",
       "      <th>1</th>\n",
       "      <td>Labuan</td>\n",
       "      <td>5.28</td>\n",
       "      <td>78.80</td>\n",
       "      <td>100</td>\n",
       "      <td>6.53</td>\n",
       "      <td>20</td>\n",
       "    </tr>\n",
       "    <tr>\n",
       "      <th>2</th>\n",
       "      <td>Vaini</td>\n",
       "      <td>-21.20</td>\n",
       "      <td>68.00</td>\n",
       "      <td>94</td>\n",
       "      <td>5.82</td>\n",
       "      <td>40</td>\n",
       "    </tr>\n",
       "    <tr>\n",
       "      <th>3</th>\n",
       "      <td>Heidelberg</td>\n",
       "      <td>-26.50</td>\n",
       "      <td>51.01</td>\n",
       "      <td>54</td>\n",
       "      <td>5.26</td>\n",
       "      <td>0</td>\n",
       "    </tr>\n",
       "    <tr>\n",
       "      <th>4</th>\n",
       "      <td>Sur</td>\n",
       "      <td>22.57</td>\n",
       "      <td>88.02</td>\n",
       "      <td>59</td>\n",
       "      <td>16.20</td>\n",
       "      <td>100</td>\n",
       "    </tr>\n",
       "    <tr>\n",
       "      <th>...</th>\n",
       "      <td>...</td>\n",
       "      <td>...</td>\n",
       "      <td>...</td>\n",
       "      <td>...</td>\n",
       "      <td>...</td>\n",
       "      <td>...</td>\n",
       "    </tr>\n",
       "    <tr>\n",
       "      <th>95</th>\n",
       "      <td>Norman Wells</td>\n",
       "      <td>65.28</td>\n",
       "      <td>71.60</td>\n",
       "      <td>49</td>\n",
       "      <td>11.41</td>\n",
       "      <td>75</td>\n",
       "    </tr>\n",
       "    <tr>\n",
       "      <th>96</th>\n",
       "      <td>Broome</td>\n",
       "      <td>42.25</td>\n",
       "      <td>86.00</td>\n",
       "      <td>35</td>\n",
       "      <td>10.29</td>\n",
       "      <td>1</td>\n",
       "    </tr>\n",
       "    <tr>\n",
       "      <th>97</th>\n",
       "      <td>Zonguldak</td>\n",
       "      <td>41.25</td>\n",
       "      <td>63.25</td>\n",
       "      <td>90</td>\n",
       "      <td>2.44</td>\n",
       "      <td>0</td>\n",
       "    </tr>\n",
       "    <tr>\n",
       "      <th>98</th>\n",
       "      <td>Sarāhan</td>\n",
       "      <td>31.52</td>\n",
       "      <td>62.94</td>\n",
       "      <td>77</td>\n",
       "      <td>0.47</td>\n",
       "      <td>51</td>\n",
       "    </tr>\n",
       "    <tr>\n",
       "      <th>99</th>\n",
       "      <td>Nome</td>\n",
       "      <td>64.50</td>\n",
       "      <td>59.00</td>\n",
       "      <td>71</td>\n",
       "      <td>4.70</td>\n",
       "      <td>75</td>\n",
       "    </tr>\n",
       "  </tbody>\n",
       "</table>\n",
       "<p>100 rows × 6 columns</p>\n",
       "</div>"
      ],
      "text/plain": [
       "            city    lat   temp  humidity   wind  cloudiness\n",
       "0         Harper   4.38  75.65        77   9.55          80\n",
       "1         Labuan   5.28  78.80       100   6.53          20\n",
       "2          Vaini -21.20  68.00        94   5.82          40\n",
       "3     Heidelberg -26.50  51.01        54   5.26           0\n",
       "4            Sur  22.57  88.02        59  16.20         100\n",
       "..           ...    ...    ...       ...    ...         ...\n",
       "95  Norman Wells  65.28  71.60        49  11.41          75\n",
       "96        Broome  42.25  86.00        35  10.29           1\n",
       "97     Zonguldak  41.25  63.25        90   2.44           0\n",
       "98       Sarāhan  31.52  62.94        77   0.47          51\n",
       "99          Nome  64.50  59.00        71   4.70          75\n",
       "\n",
       "[100 rows x 6 columns]"
      ]
     },
     "execution_count": 7,
     "metadata": {},
     "output_type": "execute_result"
    }
   ],
   "source": [
    "# create a data frame from cities, lat, and temp -- dictionary to a pd.DataFrame\n",
    "weather_dict = {\n",
    "    \"city\": name,\n",
    "    \"lat\": lat,\n",
    "    \"temp\": temp,\n",
    "    \"humidity\": humid,\n",
    "    \"wind\": wind,\n",
    "    \"cloudiness\": clouds\n",
    "}\n",
    "weather_data = pd.DataFrame(weather_dict)\n",
    "weather_data.head(100)"
   ]
  },
  {
   "cell_type": "code",
   "execution_count": 8,
   "metadata": {},
   "outputs": [],
   "source": [
    "weather_data.to_csv('Datafolder/weather_data_df.csv', index=False)"
   ]
  },
  {
   "cell_type": "markdown",
   "metadata": {},
   "source": [
    "## Inspect the data and remove the cities where the humidity > 100%.\n",
    "----\n",
    "Skip this step if there are no cities that have humidity > 100%. "
   ]
  },
  {
   "cell_type": "code",
   "execution_count": 11,
   "metadata": {},
   "outputs": [
    {
     "data": {
      "text/plain": [
       "city           object\n",
       "lat           float64\n",
       "temp          float64\n",
       "humidity        int64\n",
       "wind          float64\n",
       "cloudiness      int64\n",
       "dtype: object"
      ]
     },
     "execution_count": 11,
     "metadata": {},
     "output_type": "execute_result"
    }
   ],
   "source": [
    "weather_data.dtypes"
   ]
  },
  {
   "cell_type": "code",
   "execution_count": 13,
   "metadata": {},
   "outputs": [
    {
     "data": {
      "text/plain": [
       "Int64Index([], dtype='int64')"
      ]
     },
     "execution_count": 13,
     "metadata": {},
     "output_type": "execute_result"
    }
   ],
   "source": [
    "#  Get the indices of cities that have humidity over 100%.\n",
    "ind_humidity = weather_data.index[weather_data[\"humidity\"]>100]\n",
    "ind_humidity"
   ]
  },
  {
   "cell_type": "code",
   "execution_count": null,
   "metadata": {},
   "outputs": [],
   "source": [
    "# Make a new DataFrame equal to the city data to drop all humidity outliers by index.\n",
    "# Passing \"inplace=False\" will make a copy of the city_data DataFrame, which we call \"clean_city_data\".\n",
    "                            \n",
    "# No observations with Humidity over 100"
   ]
  },
  {
   "cell_type": "code",
   "execution_count": null,
   "metadata": {},
   "outputs": [],
   "source": [
    "# Extract relevant fields from the data frame\n",
    "#no need as there was nothing cleaned up"
   ]
  },
  {
   "cell_type": "markdown",
   "metadata": {},
   "source": [
    "## Plotting the Data\n",
    "* Use proper labeling of the plots using plot titles (including date of analysis) and axes labels.\n",
    "* Save the plotted figures as .pngs."
   ]
  },
  {
   "cell_type": "markdown",
   "metadata": {},
   "source": [
    "## Latitude vs. Temperature Plot"
   ]
  },
  {
   "cell_type": "code",
   "execution_count": 14,
   "metadata": {
    "scrolled": true
   },
   "outputs": [
    {
     "data": {
      "image/png": "[encoded data removed]",
      "text/plain": [
       "<Figure size 432x288 with 1 Axes>"
      ]
     },
     "metadata": {
      "needs_background": "light"
     },
     "output_type": "display_data"
    }
   ],
   "source": [
    "## Convert to floats and store Latitude and Tempurature as x and y values\n",
    "x_values = weather_data['lat']\n",
    "y_values = weather_data['temp']\n",
    "\n",
    "# Plot scatter plot\n",
    "plt.scatter(x_values,y_values)\n",
    "\n",
    "# Label plot\n",
    "plt.xlabel('Latitude')\n",
    "plt.ylabel('Max Tempurature (F)')\n",
    "plt.title('Tempurature vs Latitude')\n",
    "\n",
    "# Show plot\n",
    "plt.show()"
   ]
  },
  {
   "cell_type": "markdown",
   "metadata": {},
   "source": [
    "## Latitude vs. Humidity Plot"
   ]
  },
  {
   "cell_type": "code",
   "execution_count": 20,
   "metadata": {},
   "outputs": [
    {
     "data": {
      "image/png": "[encoded data removed]",
      "text/plain": [
       "<Figure size 432x288 with 1 Axes>"
      ]
     },
     "metadata": {
      "needs_background": "light"
     },
     "output_type": "display_data"
    }
   ],
   "source": [
    "## Convert to floats and store Latitude and Humidty as x and y values\n",
    "x_values = weather_data['lat']\n",
    "y_values = weather_data['humidity']\n",
    "\n",
    "# Plot scatter plot\n",
    "plt.scatter(x_values,y_values)\n",
    "\n",
    "# Label plot\n",
    "plt.xlabel('Latitude')\n",
    "plt.ylabel('Humidity (%)')\n",
    "plt.title('Humidity vs Latitude')\n",
    "\n",
    "# Show plot\n",
    "plt.show()"
   ]
  },
  {
   "cell_type": "markdown",
   "metadata": {},
   "source": [
    "## Latitude vs. Cloudiness Plot"
   ]
  },
  {
   "cell_type": "code",
   "execution_count": 21,
   "metadata": {},
   "outputs": [
    {
     "data": {
      "image/png": "[encoded data removed]",
      "text/plain": [
       "<Figure size 432x288 with 1 Axes>"
      ]
     },
     "metadata": {
      "needs_background": "light"
     },
     "output_type": "display_data"
    }
   ],
   "source": [
    "## Convert to floats and store Latitude and Cloudiness as x and y values\n",
    "x_values = weather_data['lat']\n",
    "y_values = weather_data['cloudiness']\n",
    "\n",
    "# Plot scatter plot\n",
    "plt.scatter(x_values,y_values)\n",
    "\n",
    "# Label plot\n",
    "plt.xlabel('Latitude')\n",
    "plt.ylabel('Cloudiness (%)')\n",
    "plt.title('Cloudiness vs Latitude')\n",
    "\n",
    "# Show plot\n",
    "plt.show()"
   ]
  },
  {
   "cell_type": "markdown",
   "metadata": {},
   "source": [
    "## Latitude vs. Wind Speed Plot"
   ]
  },
  {
   "cell_type": "code",
   "execution_count": 22,
   "metadata": {},
   "outputs": [
    {
     "data": {
      "image/png": "[encoded data removed]",
      "text/plain": [
       "<Figure size 432x288 with 1 Axes>"
      ]
     },
     "metadata": {
      "needs_background": "light"
     },
     "output_type": "display_data"
    }
   ],
   "source": [
    "## Convert to floats and store Latitude and wind as x and y values\n",
    "x_values = weather_data['lat']\n",
    "y_values = weather_data['wind']\n",
    "\n",
    "# Plot scatter plot\n",
    "plt.scatter(x_values,y_values)\n",
    "\n",
    "# Label plot\n",
    "plt.xlabel('Latitude')\n",
    "plt.ylabel('Wind (MPH)')\n",
    "plt.title('Wind Speed vs Latitude')\n",
    "\n",
    "# Show plot\n",
    "plt.show()"
   ]
  },
  {
   "cell_type": "markdown",
   "metadata": {},
   "source": [
    "## Linear Regression"
   ]
  },
  {
   "cell_type": "code",
   "execution_count": null,
   "metadata": {},
   "outputs": [],
   "source": [
    "# OPTIONAL: Create a function to create Linear Regression plots"
   ]
  },
  {
   "cell_type": "code",
   "execution_count": 24,
   "metadata": {},
   "outputs": [
    {
     "data": {
      "text/html": [
       "<div>\n",
       "<style scoped>\n",
       "    .dataframe tbody tr th:only-of-type {\n",
       "        vertical-align: middle;\n",
       "    }\n",
       "\n",
       "    .dataframe tbody tr th {\n",
       "        vertical-align: top;\n",
       "    }\n",
       "\n",
       "    .dataframe thead th {\n",
       "        text-align: right;\n",
       "    }\n",
       "</style>\n",
       "<table border=\"1\" class=\"dataframe\">\n",
       "  <thead>\n",
       "    <tr style=\"text-align: right;\">\n",
       "      <th></th>\n",
       "      <th>city</th>\n",
       "      <th>lat</th>\n",
       "      <th>temp</th>\n",
       "      <th>humidity</th>\n",
       "      <th>wind</th>\n",
       "      <th>cloudiness</th>\n",
       "    </tr>\n",
       "  </thead>\n",
       "  <tbody>\n",
       "    <tr>\n",
       "      <th>2</th>\n",
       "      <td>Vaini</td>\n",
       "      <td>-21.20</td>\n",
       "      <td>68.00</td>\n",
       "      <td>94</td>\n",
       "      <td>5.82</td>\n",
       "      <td>40</td>\n",
       "    </tr>\n",
       "    <tr>\n",
       "      <th>3</th>\n",
       "      <td>Heidelberg</td>\n",
       "      <td>-26.50</td>\n",
       "      <td>51.01</td>\n",
       "      <td>54</td>\n",
       "      <td>5.26</td>\n",
       "      <td>0</td>\n",
       "    </tr>\n",
       "    <tr>\n",
       "      <th>6</th>\n",
       "      <td>Port Alfred</td>\n",
       "      <td>-33.59</td>\n",
       "      <td>58.24</td>\n",
       "      <td>69</td>\n",
       "      <td>14.45</td>\n",
       "      <td>66</td>\n",
       "    </tr>\n",
       "    <tr>\n",
       "      <th>8</th>\n",
       "      <td>Castro</td>\n",
       "      <td>-24.79</td>\n",
       "      <td>66.25</td>\n",
       "      <td>70</td>\n",
       "      <td>3.36</td>\n",
       "      <td>100</td>\n",
       "    </tr>\n",
       "    <tr>\n",
       "      <th>9</th>\n",
       "      <td>Ushuaia</td>\n",
       "      <td>-54.80</td>\n",
       "      <td>33.80</td>\n",
       "      <td>90</td>\n",
       "      <td>20.80</td>\n",
       "      <td>40</td>\n",
       "    </tr>\n",
       "    <tr>\n",
       "      <th>...</th>\n",
       "      <td>...</td>\n",
       "      <td>...</td>\n",
       "      <td>...</td>\n",
       "      <td>...</td>\n",
       "      <td>...</td>\n",
       "      <td>...</td>\n",
       "    </tr>\n",
       "    <tr>\n",
       "      <th>538</th>\n",
       "      <td>Mareeba</td>\n",
       "      <td>-17.00</td>\n",
       "      <td>57.99</td>\n",
       "      <td>85</td>\n",
       "      <td>2.15</td>\n",
       "      <td>0</td>\n",
       "    </tr>\n",
       "    <tr>\n",
       "      <th>550</th>\n",
       "      <td>Kavieng</td>\n",
       "      <td>-2.57</td>\n",
       "      <td>81.99</td>\n",
       "      <td>77</td>\n",
       "      <td>7.36</td>\n",
       "      <td>100</td>\n",
       "    </tr>\n",
       "    <tr>\n",
       "      <th>551</th>\n",
       "      <td>Keetmanshoop</td>\n",
       "      <td>-26.58</td>\n",
       "      <td>62.60</td>\n",
       "      <td>25</td>\n",
       "      <td>5.82</td>\n",
       "      <td>0</td>\n",
       "    </tr>\n",
       "    <tr>\n",
       "      <th>553</th>\n",
       "      <td>Tsabong</td>\n",
       "      <td>-26.02</td>\n",
       "      <td>50.34</td>\n",
       "      <td>51</td>\n",
       "      <td>4.00</td>\n",
       "      <td>0</td>\n",
       "    </tr>\n",
       "    <tr>\n",
       "      <th>566</th>\n",
       "      <td>Batemans Bay</td>\n",
       "      <td>-35.72</td>\n",
       "      <td>57.99</td>\n",
       "      <td>97</td>\n",
       "      <td>5.99</td>\n",
       "      <td>100</td>\n",
       "    </tr>\n",
       "  </tbody>\n",
       "</table>\n",
       "<p>160 rows × 6 columns</p>\n",
       "</div>"
      ],
      "text/plain": [
       "             city    lat   temp  humidity   wind  cloudiness\n",
       "2           Vaini -21.20  68.00        94   5.82          40\n",
       "3      Heidelberg -26.50  51.01        54   5.26           0\n",
       "6     Port Alfred -33.59  58.24        69  14.45          66\n",
       "8          Castro -24.79  66.25        70   3.36         100\n",
       "9         Ushuaia -54.80  33.80        90  20.80          40\n",
       "..            ...    ...    ...       ...    ...         ...\n",
       "538       Mareeba -17.00  57.99        85   2.15           0\n",
       "550       Kavieng  -2.57  81.99        77   7.36         100\n",
       "551  Keetmanshoop -26.58  62.60        25   5.82           0\n",
       "553       Tsabong -26.02  50.34        51   4.00           0\n",
       "566  Batemans Bay -35.72  57.99        97   5.99         100\n",
       "\n",
       "[160 rows x 6 columns]"
      ]
     },
     "execution_count": 24,
     "metadata": {},
     "output_type": "execute_result"
    }
   ],
   "source": [
    "# Create Northern and Southern Hemisphere DataFrames\n",
    "northern_hemisphere = weather_data.loc[weather_data[\"lat\"] >= 0]\n",
    "southern_hemisphere = weather_data.loc[weather_data[\"lat\"] < 0]"
   ]
  },
  {
   "cell_type": "markdown",
   "metadata": {},
   "source": [
    "####  Northern Hemisphere - Max Temp vs. Latitude Linear Regression"
   ]
  },
  {
   "cell_type": "code",
   "execution_count": 26,
   "metadata": {},
   "outputs": [
    {
     "name": "stdout",
     "output_type": "stream",
     "text": [
      "R squared: 0.39077382774977193\n"
     ]
    },
    {
     "data": {
      "image/png": "[encoded data removed]",
      "text/plain": [
       "<Figure size 432x288 with 1 Axes>"
      ]
     },
     "metadata": {
      "needs_background": "light"
     },
     "output_type": "display_data"
    }
   ],
   "source": [
    "## Convert to floats and store Latitude and Max Temp as x and y values\n",
    "x_values = northern_hemisphere['lat']\n",
    "y_values = northern_hemisphere['temp']\n",
    "\n",
    "# Run linear regression\n",
    "(slope, intercept, rvalue, pvalue, stderr) = linregress(x_values, y_values)\n",
    "regress_values = x_values * slope + intercept\n",
    "line_eq = \"y = \" + str(round(slope,2)) + \"x + \" + str(round(intercept,2))\n",
    "\n",
    "# Plot scatter plot\n",
    "plt.scatter(x_values,y_values)\n",
    "\n",
    "# Plot regression line\n",
    "plt.plot(x_values,regress_values,\"r-\")\n",
    "plt.annotate(line_eq,(0,40),fontsize=15,color=\"red\")\n",
    "\n",
    "# Label plot\n",
    "plt.xlabel('Latitude')\n",
    "plt.ylabel('Max Tempurature (F)')\n",
    "plt.title('Northern Hemisphere Tempurature vs Latitude')\n",
    "\n",
    "# Print r square value\n",
    "print(f\"R squared: {rvalue**2}\")\n",
    "\n",
    "# Show plot\n",
    "plt.show()\n"
   ]
  },
  {
   "cell_type": "markdown",
   "metadata": {},
   "source": [
    "####  Southern Hemisphere - Max Temp vs. Latitude Linear Regression"
   ]
  },
  {
   "cell_type": "code",
   "execution_count": 28,
   "metadata": {},
   "outputs": [
    {
     "name": "stdout",
     "output_type": "stream",
     "text": [
      "R squared: 0.640092447806479\n"
     ]
    },
    {
     "data": {
      "image/png": "[encoded data removed]",
      "text/plain": [
       "<Figure size 432x288 with 1 Axes>"
      ]
     },
     "metadata": {
      "needs_background": "light"
     },
     "output_type": "display_data"
    }
   ],
   "source": [
    "## Convert to floats and store Latitude and Max Temp as x and y values\n",
    "x_values = southern_hemisphere['lat']\n",
    "y_values = southern_hemisphere['temp']\n",
    "\n",
    "# Run linear regression\n",
    "(slope, intercept, rvalue, pvalue, stderr) = linregress(x_values, y_values)\n",
    "regress_values = x_values * slope + intercept\n",
    "line_eq = \"y = \" + str(round(slope,2)) + \"x + \" + str(round(intercept,2))\n",
    "\n",
    "# Plot scatter plot\n",
    "plt.scatter(x_values,y_values)\n",
    "\n",
    "# Plot regression line\n",
    "plt.plot(x_values,regress_values,\"r-\")\n",
    "plt.annotate(line_eq,(-50,90),fontsize=15,color=\"red\")\n",
    "\n",
    "# Label plot\n",
    "plt.xlabel('Latitude')\n",
    "plt.ylabel('Max Tempurature (F)')\n",
    "plt.title('Southern Hemisphere Tempurature vs Latitude')\n",
    "\n",
    "# Print r square value\n",
    "print(f\"R squared: {rvalue**2}\")\n",
    "\n",
    "# Show plot\n",
    "plt.show()"
   ]
  },
  {
   "cell_type": "markdown",
   "metadata": {},
   "source": [
    "####  Northern Hemisphere - Humidity (%) vs. Latitude Linear Regression"
   ]
  },
  {
   "cell_type": "code",
   "execution_count": 30,
   "metadata": {},
   "outputs": [
    {
     "name": "stdout",
     "output_type": "stream",
     "text": [
      "R squared: 0.0036266043031949356\n"
     ]
    },
    {
     "data": {
      "image/png": "[encoded data removed]",
      "text/plain": [
       "<Figure size 432x288 with 1 Axes>"
      ]
     },
     "metadata": {
      "needs_background": "light"
     },
     "output_type": "display_data"
    }
   ],
   "source": [
    "## Convert to floats and store Latitude and Humidity as x and y values\n",
    "x_values = northern_hemisphere['lat']\n",
    "y_values = northern_hemisphere['humidity']\n",
    "\n",
    "# Run linear regression\n",
    "(slope, intercept, rvalue, pvalue, stderr) = linregress(x_values, y_values)\n",
    "regress_values = x_values * slope + intercept\n",
    "line_eq = \"y = \" + str(round(slope,2)) + \"x + \" + str(round(intercept,2))\n",
    "\n",
    "# Plot scatter plot\n",
    "plt.scatter(x_values,y_values)\n",
    "\n",
    "# Plot regression line\n",
    "plt.plot(x_values,regress_values,\"r-\")\n",
    "plt.annotate(line_eq,(45,10),fontsize=15,color=\"red\")\n",
    "\n",
    "# Label plot\n",
    "plt.xlabel('Latitude')\n",
    "plt.ylabel('Humidity (%)')\n",
    "plt.title('Northern Hemisphere Humidity vs Latitude')\n",
    "\n",
    "# Print r square value\n",
    "print(f\"R squared: {rvalue**2}\")\n",
    "\n",
    "# Show plot\n",
    "plt.show()"
   ]
  },
  {
   "cell_type": "markdown",
   "metadata": {},
   "source": [
    "####  Southern Hemisphere - Humidity (%) vs. Latitude Linear Regression"
   ]
  },
  {
   "cell_type": "code",
   "execution_count": 32,
   "metadata": {},
   "outputs": [
    {
     "name": "stdout",
     "output_type": "stream",
     "text": [
      "R squared: 0.019525597003477734\n"
     ]
    },
    {
     "data": {
      "image/png": "[encoded data removed]",
      "text/plain": [
       "<Figure size 432x288 with 1 Axes>"
      ]
     },
     "metadata": {
      "needs_background": "light"
     },
     "output_type": "display_data"
    }
   ],
   "source": [
    "## Convert to floats and store Latitude and Humidity as x and y values\n",
    "x_values = southern_hemisphere['lat']\n",
    "y_values = southern_hemisphere['humidity']\n",
    "\n",
    "# Run linear regression\n",
    "(slope, intercept, rvalue, pvalue, stderr) = linregress(x_values, y_values)\n",
    "regress_values = x_values * slope + intercept\n",
    "line_eq = \"y = \" + str(round(slope,2)) + \"x + \" + str(round(intercept,2))\n",
    "\n",
    "# Plot scatter plot\n",
    "plt.scatter(x_values,y_values)\n",
    "\n",
    "# Plot regression line\n",
    "plt.plot(x_values,regress_values,\"r-\")\n",
    "plt.annotate(line_eq,(-55,20),fontsize=15,color=\"red\")\n",
    "\n",
    "# Label plot\n",
    "plt.xlabel('Latitude')\n",
    "plt.ylabel('Humidity (%)')\n",
    "plt.title('Southern Hemisphere Humidity vs Latitude')\n",
    "\n",
    "# Print r square value\n",
    "print(f\"R squared: {rvalue**2}\")\n",
    "\n",
    "# Show plot\n",
    "plt.show()"
   ]
  },
  {
   "cell_type": "markdown",
   "metadata": {},
   "source": [
    "####  Northern Hemisphere - Cloudiness (%) vs. Latitude Linear Regression"
   ]
  },
  {
   "cell_type": "code",
   "execution_count": 33,
   "metadata": {},
   "outputs": [
    {
     "name": "stdout",
     "output_type": "stream",
     "text": [
      "R squared: 0.007722585166177915\n"
     ]
    },
    {
     "data": {
      "image/png": "[encoded data removed]",
      "text/plain": [
       "<Figure size 432x288 with 1 Axes>"
      ]
     },
     "metadata": {
      "needs_background": "light"
     },
     "output_type": "display_data"
    }
   ],
   "source": [
    "## Convert to floats and store Latitude and Cloudiness as x and y values\n",
    "x_values = northern_hemisphere['lat']\n",
    "y_values = northern_hemisphere['cloudiness']\n",
    "\n",
    "# Run linear regression\n",
    "(slope, intercept, rvalue, pvalue, stderr) = linregress(x_values, y_values)\n",
    "regress_values = x_values * slope + intercept\n",
    "line_eq = \"y = \" + str(round(slope,2)) + \"x + \" + str(round(intercept,2))\n",
    "\n",
    "# Plot scatter plot\n",
    "plt.scatter(x_values,y_values)\n",
    "\n",
    "# Plot regression line\n",
    "plt.plot(x_values,regress_values,\"r-\")\n",
    "plt.annotate(line_eq,(45,10),fontsize=15,color=\"red\")\n",
    "\n",
    "# Label plot\n",
    "plt.xlabel('Latitude')\n",
    "plt.ylabel('Cloudiness (%)')\n",
    "plt.title('Northern Hemisphere Cloudiness vs Latitude')\n",
    "\n",
    "# Print r square value\n",
    "print(f\"R squared: {rvalue**2}\")\n",
    "\n",
    "# Show plot\n",
    "plt.show()"
   ]
  },
  {
   "cell_type": "markdown",
   "metadata": {},
   "source": [
    "####  Southern Hemisphere - Cloudiness (%) vs. Latitude Linear Regression"
   ]
  },
  {
   "cell_type": "code",
   "execution_count": 35,
   "metadata": {},
   "outputs": [
    {
     "name": "stdout",
     "output_type": "stream",
     "text": [
      "R squared: 0.0021033933354811267\n"
     ]
    },
    {
     "data": {
      "image/png": "[encoded data removed]",
      "text/plain": [
       "<Figure size 432x288 with 1 Axes>"
      ]
     },
     "metadata": {
      "needs_background": "light"
     },
     "output_type": "display_data"
    }
   ],
   "source": [
    "## Convert to floats and store Latitude and Cloudiness as x and y values\n",
    "x_values = southern_hemisphere['lat']\n",
    "y_values = southern_hemisphere['cloudiness']\n",
    "\n",
    "# Run linear regression\n",
    "(slope, intercept, rvalue, pvalue, stderr) = linregress(x_values, y_values)\n",
    "regress_values = x_values * slope + intercept\n",
    "line_eq = \"y = \" + str(round(slope,2)) + \"x + \" + str(round(intercept,2))\n",
    "\n",
    "# Plot scatter plot\n",
    "plt.scatter(x_values,y_values)\n",
    "\n",
    "# Plot regression line\n",
    "plt.plot(x_values,regress_values,\"r-\")\n",
    "plt.annotate(line_eq,(-55,60),fontsize=15,color=\"red\")\n",
    "\n",
    "# Label plot\n",
    "plt.xlabel('Latitude')\n",
    "plt.ylabel('Cloudiness (%)')\n",
    "plt.title('Southern Hemisphere Cloudiness vs Latitude')\n",
    "\n",
    "# Print r square value\n",
    "print(f\"R squared: {rvalue**2}\")\n",
    "\n",
    "# Show plot\n",
    "plt.show()"
   ]
  },
  {
   "cell_type": "markdown",
   "metadata": {},
   "source": [
    "####  Northern Hemisphere - Wind Speed (mph) vs. Latitude Linear Regression"
   ]
  },
  {
   "cell_type": "code",
   "execution_count": 37,
   "metadata": {},
   "outputs": [
    {
     "name": "stdout",
     "output_type": "stream",
     "text": [
      "R squared: 0.0039654978378512425\n"
     ]
    },
    {
     "data": {
      "image/png": "[encoded data removed]",
      "text/plain": [
       "<Figure size 432x288 with 1 Axes>"
      ]
     },
     "metadata": {
      "needs_background": "light"
     },
     "output_type": "display_data"
    }
   ],
   "source": [
    "## Convert to floats and store Latitude and Wind as x and y values\n",
    "x_values = northern_hemisphere['lat']\n",
    "y_values = northern_hemisphere['wind']\n",
    "\n",
    "# Run linear regression\n",
    "(slope, intercept, rvalue, pvalue, stderr) = linregress(x_values, y_values)\n",
    "regress_values = x_values * slope + intercept\n",
    "line_eq = \"y = \" + str(round(slope,2)) + \"x + \" + str(round(intercept,2))\n",
    "\n",
    "# Plot scatter plot\n",
    "plt.scatter(x_values,y_values)\n",
    "\n",
    "# Plot regression line\n",
    "plt.plot(x_values,regress_values,\"r-\")\n",
    "plt.annotate(line_eq,(45,26),fontsize=15,color=\"red\")\n",
    "\n",
    "# Label plot\n",
    "plt.xlabel('Latitude')\n",
    "plt.ylabel('Wind (MPH)')\n",
    "plt.title('Northern Hemisphere Wind Speed vs Latitude')\n",
    "\n",
    "# Print r square value\n",
    "print(f\"R squared: {rvalue**2}\")\n",
    "\n",
    "# Show plot\n",
    "plt.show()"
   ]
  },
  {
   "cell_type": "markdown",
   "metadata": {},
   "source": [
    "####  Southern Hemisphere - Wind Speed (mph) vs. Latitude Linear Regression"
   ]
  },
  {
   "cell_type": "code",
   "execution_count": 39,
   "metadata": {},
   "outputs": [
    {
     "name": "stdout",
     "output_type": "stream",
     "text": [
      "R squared: 0.012915226504418828\n"
     ]
    },
    {
     "data": {
      "image/png": "[encoded data removed]",
      "text/plain": [
       "<Figure size 432x288 with 1 Axes>"
      ]
     },
     "metadata": {
      "needs_background": "light"
     },
     "output_type": "display_data"
    }
   ],
   "source": [
    "## Convert to floats and store Latitude and Wind as x and y values\n",
    "x_values = southern_hemisphere['lat']\n",
    "y_values = southern_hemisphere['wind']\n",
    "\n",
    "# Run linear regression\n",
    "(slope, intercept, rvalue, pvalue, stderr) = linregress(x_values, y_values)\n",
    "regress_values = x_values * slope + intercept\n",
    "line_eq = \"y = \" + str(round(slope,2)) + \"x + \" + str(round(intercept,2))\n",
    "\n",
    "# Plot scatter plot\n",
    "plt.scatter(x_values,y_values)\n",
    "\n",
    "# Plot regression line\n",
    "plt.plot(x_values,regress_values,\"r-\")\n",
    "plt.annotate(line_eq,(-55,22),fontsize=15,color=\"red\")\n",
    "\n",
    "# Label plot\n",
    "plt.xlabel('Latitude')\n",
    "plt.ylabel('Wind (MPH)')\n",
    "plt.title('Southern Hemisphere Wind Speed vs Latitude')\n",
    "\n",
    "# Print r square value\n",
    "print(f\"R squared: {rvalue**2}\")\n",
    "\n",
    "# Show plot\n",
    "plt.show()"
   ]
  },
  {
   "cell_type": "code",
   "execution_count": null,
   "metadata": {},
   "outputs": [],
   "source": []
  }
 ],
 "metadata": {
  "anaconda-cloud": {},
  "kernel_info": {
   "name": "python3"
  },
  "kernelspec": {
   "display_name": "Python 3",
   "language": "python",
   "name": "python3"
  },
  "language_info": {
   "codemirror_mode": {
    "name": "ipython",
    "version": 3
   },
   "file_extension": ".py",
   "mimetype": "text/x-python",
   "name": "python",
   "nbconvert_exporter": "python",
   "pygments_lexer": "ipython3",
   "version": "3.6.10"
  },
  "latex_envs": {
   "LaTeX_envs_menu_present": true,
   "autoclose": false,
   "autocomplete": true,
   "bibliofile": "biblio.bib",
   "cite_by": "apalike",
   "current_citInitial": 1,
   "eqLabelWithNumbers": true,
   "eqNumInitial": 1,
   "hotkeys": {
    "equation": "Ctrl-E",
    "itemize": "Ctrl-I"
   },
   "labels_anchors": false,
   "latex_user_defs": false,
   "report_style_numbering": false,
   "user_envs_cfg": false
  },
  "nteract": {
   "version": "0.12.3"
  }
 },
 "nbformat": 4,
 "nbformat_minor": 2
}
